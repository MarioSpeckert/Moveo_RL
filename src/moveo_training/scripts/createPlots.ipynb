{
 "cells": [
  {
   "cell_type": "code",
   "execution_count": 100,
   "source": [
    "from packaging import version\n",
    "import pandas as pd\n",
    "from matplotlib import pyplot as plt\n",
    "import seaborn as sns\n",
    "from scipy import stats\n",
    "import tensorboard as tb"
   ],
   "outputs": [],
   "metadata": {}
  },
  {
   "cell_type": "code",
   "execution_count": 101,
   "source": [
    "experiment_id = \"uANnpY2eRLa7A8jyO1qwUQ\"\n",
    "experiment = tb.data.experimental.ExperimentFromDev(experiment_id)\n",
    "df = experiment.get_scalars()\n",
    "df[\"tag\"].unique()\n"
   ],
   "outputs": [
    {
     "output_type": "execute_result",
     "data": {
      "text/plain": [
       "array(['Metrics/AverageEpisodeLength', 'Metrics/AverageReturn',\n",
       "       'Losses/actor_loss', 'Losses/alpha_loss', 'Losses/critic_loss',\n",
       "       'Metrics/EnvironmentSteps', 'Metrics/NumberOfEpisodes',\n",
       "       'Metrics_vs_EnvironmentSteps/AverageEpisodeLength',\n",
       "       'Metrics_vs_EnvironmentSteps/AverageReturn',\n",
       "       'Metrics_vs_EnvironmentSteps/NumberOfEpisodes',\n",
       "       'Metrics_vs_NumberOfEpisodes/AverageEpisodeLength',\n",
       "       'Metrics_vs_NumberOfEpisodes/AverageReturn',\n",
       "       'Metrics_vs_NumberOfEpisodes/EnvironmentSteps',\n",
       "       'global_steps_per_sec'], dtype=object)"
      ]
     },
     "metadata": {},
     "execution_count": 101
    }
   ],
   "metadata": {}
  },
  {
   "cell_type": "code",
   "execution_count": null,
   "source": [],
   "outputs": [],
   "metadata": {}
  },
  {
   "cell_type": "code",
   "execution_count": 102,
   "source": [
    "df_eval = df[df[\"run\"]==\"eval\"]\n",
    "df_train = df[df[\"run\"]==\"train\"]\n"
   ],
   "outputs": [],
   "metadata": {}
  },
  {
   "cell_type": "code",
   "execution_count": 103,
   "source": [
    "df_eval_avg_EL =df_eval[df_eval[\"tag\"] == \"Metrics/AverageEpisodeLength\"]"
   ],
   "outputs": [],
   "metadata": {}
  },
  {
   "cell_type": "code",
   "execution_count": 104,
   "source": [
    "df_eval_avgReturn = df_eval[df_eval[\"tag\"]==\"Metrics/AverageReturn\"]\n",
    "df_eval_avgEL = df_eval[df_eval[\"tag\"]==\"Metrics/AverageReturn\"]\n",
    "df_train_avgReturn = df_train[df_train[\"tag\"]==\"Metrics/AverageReturn\"]\n",
    "# df_eval_avgReturn2 =df_eval_avgReturn.truncate(after =104)\n",
    "# df_train_avgReturn2 = df_train_avgReturn.truncate(after=405)"
   ],
   "outputs": [],
   "metadata": {}
  },
  {
   "cell_type": "code",
   "execution_count": 119,
   "source": [
    "import plotly.graph_objects as go\n",
    "from plotly.subplots import make_subplots\n",
    "\n",
    "from plotly.offline import plot, iplot, init_notebook_mode\n",
    "pd.options.plotting.backend = \"plotly\"\n",
    "trace1 = go.Scatter(x=df_eval_avgReturn[\"step\"], y=df_eval_avgReturn[\"value\"], name =\"evaluation\",  mode='lines+markers')\n",
    "# trace2 = go.Scatter(x=df_train_avgReturn[\"step\"], y=df_train_avgReturn[\"value\"], name =\"training\",  mode='lines+markers')\n",
    "fig = make_subplots()\n",
    "fig.add_trace(trace1)\n",
    "# fig.add_trace(trace2)\n",
    "fig['layout'].update(height = 600, width = 800)\n",
    "fig.update_xaxes(title_text='number of episodes')\n",
    "fig.update_yaxes(title_text='average reward')\n",
    "lines = {'Reward for reaching the target':500}\n",
    "\n",
    "# add lines using absolute references\n",
    "for k in lines.keys():\n",
    "    #print(k)\n",
    "    fig.add_shape(type='line',\n",
    "                yref=\"y\",\n",
    "                xref=\"x\",\n",
    "                x0=-130,\n",
    "                y0=500,\n",
    "                x1=2500,\n",
    "                y1=500,\n",
    "                line=dict(color='black', width=1.5,dash=\"dot\"))\n",
    "    fig.add_annotation(\n",
    "                x=2000,\n",
    "                y=0.2,\n",
    "                yref='paper',\n",
    "                showarrow=False,\n",
    "                text=k)\n",
    "fig.show()\n",
    "import tikzplotlib\n",
    "fig.write_image(\"/home/nils/fig1.svg\")"
   ],
   "outputs": [
    {
     "output_type": "display_data",
     "data": {
      "application/vnd.plotly.v1+json": {
       "config": {
        "plotlyServerURL": "https://plot.ly"
       },
       "data": [
        {
         "mode": "lines+markers",
         "name": "evaluation",
         "type": "scatter",
         "x": [
          0,
          20,
          40,
          60,
          80,
          100,
          120,
          140,
          160,
          180,
          200,
          210,
          220,
          240,
          260,
          280,
          300,
          320,
          340,
          360,
          380,
          400,
          420,
          440,
          460,
          480,
          500,
          520,
          540,
          560,
          580,
          600,
          620,
          640,
          660,
          680,
          700,
          720,
          740,
          760,
          780,
          800,
          820,
          840,
          860,
          880,
          900,
          920,
          940,
          960,
          980,
          1000,
          1020,
          1040,
          1060,
          1080,
          1100,
          1120,
          1140,
          1160,
          1180,
          1200,
          1220,
          1240,
          1260,
          1280,
          1300,
          1320,
          1340,
          1360,
          1380,
          1400,
          1420,
          1440,
          1460,
          1480,
          1500,
          1520,
          1540,
          1560,
          1580,
          1600,
          1620,
          1640,
          1660,
          1680,
          1700,
          1720,
          1740,
          1760,
          1780,
          1800,
          1820,
          1840
         ],
         "y": [
          169.48690795898438,
          167.4582977294922,
          159.79299926757812,
          161.2372283935547,
          169.1226806640625,
          179.72293090820312,
          196.76107788085938,
          229.3363494873047,
          274.9775390625,
          293.5998840332031,
          293.96063232421875,
          287.8788146972656,
          273.8889465332031,
          253.8455047607422,
          250.0579071044922,
          256.1248474121094,
          240.00308227539062,
          226.4376678466797,
          195.04623413085938,
          172.7133026123047,
          171.36105346679688,
          183.45286560058594,
          183.58399963378906,
          179.37472534179688,
          185.88404846191406,
          175.89364624023438,
          170.1837615966797,
          167.73748779296875,
          167.081787109375,
          171.76242065429688,
          168.87100219726562,
          172.22830200195312,
          176.7419891357422,
          173.7119598388672,
          176.28622436523438,
          173.28805541992188,
          174.88735961914062,
          172.69525146484375,
          173.22256469726562,
          176.03797912597656,
          172.48770141601562,
          171.40164184570312,
          175.58888244628906,
          169.3868865966797,
          171.50088500976562,
          172.6126708984375,
          177.08175659179688,
          174.28736877441406,
          172.55282592773438,
          175.57469177246094,
          179.79537963867188,
          177.79624938964844,
          182.88223266601562,
          186.10842895507812,
          187.85269165039062,
          183.8284912109375,
          179.17446899414062,
          178.99508666992188,
          178.79702758789062,
          215.73117065429688,
          284.8828125,
          481.43798828125,
          985.5120849609375,
          711.3717041015625,
          1317.4954833984375,
          1365.661376953125,
          1163.7825927734375,
          1535.6810302734375,
          1664.658203125,
          1220.436767578125,
          1313.61083984375,
          1323.8040771484375,
          1332.467529296875,
          1202.7353515625,
          942.2587890625,
          1088.255126953125,
          1261.5042724609375,
          1211.6842041015625,
          1111.245361328125,
          1072.964599609375,
          1088.480224609375,
          1034.3245849609375,
          1030.626953125,
          1041.038330078125,
          937.984375,
          1166.1588134765625,
          976.08935546875,
          1046.2332763671875,
          1075.562255859375,
          1116.1417236328125,
          991.1261596679688,
          1293.052978515625,
          1042.4251708984375,
          1408.0985107421875
         ]
        }
       ],
       "layout": {
        "annotations": [
         {
          "showarrow": false,
          "text": "Reward for reaching the target",
          "x": 2000,
          "y": 0.2,
          "yref": "paper"
         }
        ],
        "height": 600,
        "shapes": [
         {
          "line": {
           "color": "black",
           "dash": "dot",
           "width": 1.5
          },
          "type": "line",
          "x0": -130,
          "x1": 2500,
          "xref": "x",
          "y0": 500,
          "y1": 500,
          "yref": "y"
         }
        ],
        "template": {
         "data": {
          "bar": [
           {
            "error_x": {
             "color": "#2a3f5f"
            },
            "error_y": {
             "color": "#2a3f5f"
            },
            "marker": {
             "line": {
              "color": "#E5ECF6",
              "width": 0.5
             },
             "pattern": {
              "fillmode": "overlay",
              "size": 10,
              "solidity": 0.2
             }
            },
            "type": "bar"
           }
          ],
          "barpolar": [
           {
            "marker": {
             "line": {
              "color": "#E5ECF6",
              "width": 0.5
             },
             "pattern": {
              "fillmode": "overlay",
              "size": 10,
              "solidity": 0.2
             }
            },
            "type": "barpolar"
           }
          ],
          "carpet": [
           {
            "aaxis": {
             "endlinecolor": "#2a3f5f",
             "gridcolor": "white",
             "linecolor": "white",
             "minorgridcolor": "white",
             "startlinecolor": "#2a3f5f"
            },
            "baxis": {
             "endlinecolor": "#2a3f5f",
             "gridcolor": "white",
             "linecolor": "white",
             "minorgridcolor": "white",
             "startlinecolor": "#2a3f5f"
            },
            "type": "carpet"
           }
          ],
          "choropleth": [
           {
            "colorbar": {
             "outlinewidth": 0,
             "ticks": ""
            },
            "type": "choropleth"
           }
          ],
          "contour": [
           {
            "colorbar": {
             "outlinewidth": 0,
             "ticks": ""
            },
            "colorscale": [
             [
              0,
              "#0d0887"
             ],
             [
              0.1111111111111111,
              "#46039f"
             ],
             [
              0.2222222222222222,
              "#7201a8"
             ],
             [
              0.3333333333333333,
              "#9c179e"
             ],
             [
              0.4444444444444444,
              "#bd3786"
             ],
             [
              0.5555555555555556,
              "#d8576b"
             ],
             [
              0.6666666666666666,
              "#ed7953"
             ],
             [
              0.7777777777777778,
              "#fb9f3a"
             ],
             [
              0.8888888888888888,
              "#fdca26"
             ],
             [
              1,
              "#f0f921"
             ]
            ],
            "type": "contour"
           }
          ],
          "contourcarpet": [
           {
            "colorbar": {
             "outlinewidth": 0,
             "ticks": ""
            },
            "type": "contourcarpet"
           }
          ],
          "heatmap": [
           {
            "colorbar": {
             "outlinewidth": 0,
             "ticks": ""
            },
            "colorscale": [
             [
              0,
              "#0d0887"
             ],
             [
              0.1111111111111111,
              "#46039f"
             ],
             [
              0.2222222222222222,
              "#7201a8"
             ],
             [
              0.3333333333333333,
              "#9c179e"
             ],
             [
              0.4444444444444444,
              "#bd3786"
             ],
             [
              0.5555555555555556,
              "#d8576b"
             ],
             [
              0.6666666666666666,
              "#ed7953"
             ],
             [
              0.7777777777777778,
              "#fb9f3a"
             ],
             [
              0.8888888888888888,
              "#fdca26"
             ],
             [
              1,
              "#f0f921"
             ]
            ],
            "type": "heatmap"
           }
          ],
          "heatmapgl": [
           {
            "colorbar": {
             "outlinewidth": 0,
             "ticks": ""
            },
            "colorscale": [
             [
              0,
              "#0d0887"
             ],
             [
              0.1111111111111111,
              "#46039f"
             ],
             [
              0.2222222222222222,
              "#7201a8"
             ],
             [
              0.3333333333333333,
              "#9c179e"
             ],
             [
              0.4444444444444444,
              "#bd3786"
             ],
             [
              0.5555555555555556,
              "#d8576b"
             ],
             [
              0.6666666666666666,
              "#ed7953"
             ],
             [
              0.7777777777777778,
              "#fb9f3a"
             ],
             [
              0.8888888888888888,
              "#fdca26"
             ],
             [
              1,
              "#f0f921"
             ]
            ],
            "type": "heatmapgl"
           }
          ],
          "histogram": [
           {
            "marker": {
             "pattern": {
              "fillmode": "overlay",
              "size": 10,
              "solidity": 0.2
             }
            },
            "type": "histogram"
           }
          ],
          "histogram2d": [
           {
            "colorbar": {
             "outlinewidth": 0,
             "ticks": ""
            },
            "colorscale": [
             [
              0,
              "#0d0887"
             ],
             [
              0.1111111111111111,
              "#46039f"
             ],
             [
              0.2222222222222222,
              "#7201a8"
             ],
             [
              0.3333333333333333,
              "#9c179e"
             ],
             [
              0.4444444444444444,
              "#bd3786"
             ],
             [
              0.5555555555555556,
              "#d8576b"
             ],
             [
              0.6666666666666666,
              "#ed7953"
             ],
             [
              0.7777777777777778,
              "#fb9f3a"
             ],
             [
              0.8888888888888888,
              "#fdca26"
             ],
             [
              1,
              "#f0f921"
             ]
            ],
            "type": "histogram2d"
           }
          ],
          "histogram2dcontour": [
           {
            "colorbar": {
             "outlinewidth": 0,
             "ticks": ""
            },
            "colorscale": [
             [
              0,
              "#0d0887"
             ],
             [
              0.1111111111111111,
              "#46039f"
             ],
             [
              0.2222222222222222,
              "#7201a8"
             ],
             [
              0.3333333333333333,
              "#9c179e"
             ],
             [
              0.4444444444444444,
              "#bd3786"
             ],
             [
              0.5555555555555556,
              "#d8576b"
             ],
             [
              0.6666666666666666,
              "#ed7953"
             ],
             [
              0.7777777777777778,
              "#fb9f3a"
             ],
             [
              0.8888888888888888,
              "#fdca26"
             ],
             [
              1,
              "#f0f921"
             ]
            ],
            "type": "histogram2dcontour"
           }
          ],
          "mesh3d": [
           {
            "colorbar": {
             "outlinewidth": 0,
             "ticks": ""
            },
            "type": "mesh3d"
           }
          ],
          "parcoords": [
           {
            "line": {
             "colorbar": {
              "outlinewidth": 0,
              "ticks": ""
             }
            },
            "type": "parcoords"
           }
          ],
          "pie": [
           {
            "automargin": true,
            "type": "pie"
           }
          ],
          "scatter": [
           {
            "marker": {
             "colorbar": {
              "outlinewidth": 0,
              "ticks": ""
             }
            },
            "type": "scatter"
           }
          ],
          "scatter3d": [
           {
            "line": {
             "colorbar": {
              "outlinewidth": 0,
              "ticks": ""
             }
            },
            "marker": {
             "colorbar": {
              "outlinewidth": 0,
              "ticks": ""
             }
            },
            "type": "scatter3d"
           }
          ],
          "scattercarpet": [
           {
            "marker": {
             "colorbar": {
              "outlinewidth": 0,
              "ticks": ""
             }
            },
            "type": "scattercarpet"
           }
          ],
          "scattergeo": [
           {
            "marker": {
             "colorbar": {
              "outlinewidth": 0,
              "ticks": ""
             }
            },
            "type": "scattergeo"
           }
          ],
          "scattergl": [
           {
            "marker": {
             "colorbar": {
              "outlinewidth": 0,
              "ticks": ""
             }
            },
            "type": "scattergl"
           }
          ],
          "scattermapbox": [
           {
            "marker": {
             "colorbar": {
              "outlinewidth": 0,
              "ticks": ""
             }
            },
            "type": "scattermapbox"
           }
          ],
          "scatterpolar": [
           {
            "marker": {
             "colorbar": {
              "outlinewidth": 0,
              "ticks": ""
             }
            },
            "type": "scatterpolar"
           }
          ],
          "scatterpolargl": [
           {
            "marker": {
             "colorbar": {
              "outlinewidth": 0,
              "ticks": ""
             }
            },
            "type": "scatterpolargl"
           }
          ],
          "scatterternary": [
           {
            "marker": {
             "colorbar": {
              "outlinewidth": 0,
              "ticks": ""
             }
            },
            "type": "scatterternary"
           }
          ],
          "surface": [
           {
            "colorbar": {
             "outlinewidth": 0,
             "ticks": ""
            },
            "colorscale": [
             [
              0,
              "#0d0887"
             ],
             [
              0.1111111111111111,
              "#46039f"
             ],
             [
              0.2222222222222222,
              "#7201a8"
             ],
             [
              0.3333333333333333,
              "#9c179e"
             ],
             [
              0.4444444444444444,
              "#bd3786"
             ],
             [
              0.5555555555555556,
              "#d8576b"
             ],
             [
              0.6666666666666666,
              "#ed7953"
             ],
             [
              0.7777777777777778,
              "#fb9f3a"
             ],
             [
              0.8888888888888888,
              "#fdca26"
             ],
             [
              1,
              "#f0f921"
             ]
            ],
            "type": "surface"
           }
          ],
          "table": [
           {
            "cells": {
             "fill": {
              "color": "#EBF0F8"
             },
             "line": {
              "color": "white"
             }
            },
            "header": {
             "fill": {
              "color": "#C8D4E3"
             },
             "line": {
              "color": "white"
             }
            },
            "type": "table"
           }
          ]
         },
         "layout": {
          "annotationdefaults": {
           "arrowcolor": "#2a3f5f",
           "arrowhead": 0,
           "arrowwidth": 1
          },
          "autotypenumbers": "strict",
          "coloraxis": {
           "colorbar": {
            "outlinewidth": 0,
            "ticks": ""
           }
          },
          "colorscale": {
           "diverging": [
            [
             0,
             "#8e0152"
            ],
            [
             0.1,
             "#c51b7d"
            ],
            [
             0.2,
             "#de77ae"
            ],
            [
             0.3,
             "#f1b6da"
            ],
            [
             0.4,
             "#fde0ef"
            ],
            [
             0.5,
             "#f7f7f7"
            ],
            [
             0.6,
             "#e6f5d0"
            ],
            [
             0.7,
             "#b8e186"
            ],
            [
             0.8,
             "#7fbc41"
            ],
            [
             0.9,
             "#4d9221"
            ],
            [
             1,
             "#276419"
            ]
           ],
           "sequential": [
            [
             0,
             "#0d0887"
            ],
            [
             0.1111111111111111,
             "#46039f"
            ],
            [
             0.2222222222222222,
             "#7201a8"
            ],
            [
             0.3333333333333333,
             "#9c179e"
            ],
            [
             0.4444444444444444,
             "#bd3786"
            ],
            [
             0.5555555555555556,
             "#d8576b"
            ],
            [
             0.6666666666666666,
             "#ed7953"
            ],
            [
             0.7777777777777778,
             "#fb9f3a"
            ],
            [
             0.8888888888888888,
             "#fdca26"
            ],
            [
             1,
             "#f0f921"
            ]
           ],
           "sequentialminus": [
            [
             0,
             "#0d0887"
            ],
            [
             0.1111111111111111,
             "#46039f"
            ],
            [
             0.2222222222222222,
             "#7201a8"
            ],
            [
             0.3333333333333333,
             "#9c179e"
            ],
            [
             0.4444444444444444,
             "#bd3786"
            ],
            [
             0.5555555555555556,
             "#d8576b"
            ],
            [
             0.6666666666666666,
             "#ed7953"
            ],
            [
             0.7777777777777778,
             "#fb9f3a"
            ],
            [
             0.8888888888888888,
             "#fdca26"
            ],
            [
             1,
             "#f0f921"
            ]
           ]
          },
          "colorway": [
           "#636efa",
           "#EF553B",
           "#00cc96",
           "#ab63fa",
           "#FFA15A",
           "#19d3f3",
           "#FF6692",
           "#B6E880",
           "#FF97FF",
           "#FECB52"
          ],
          "font": {
           "color": "#2a3f5f"
          },
          "geo": {
           "bgcolor": "white",
           "lakecolor": "white",
           "landcolor": "#E5ECF6",
           "showlakes": true,
           "showland": true,
           "subunitcolor": "white"
          },
          "hoverlabel": {
           "align": "left"
          },
          "hovermode": "closest",
          "mapbox": {
           "style": "light"
          },
          "paper_bgcolor": "white",
          "plot_bgcolor": "#E5ECF6",
          "polar": {
           "angularaxis": {
            "gridcolor": "white",
            "linecolor": "white",
            "ticks": ""
           },
           "bgcolor": "#E5ECF6",
           "radialaxis": {
            "gridcolor": "white",
            "linecolor": "white",
            "ticks": ""
           }
          },
          "scene": {
           "xaxis": {
            "backgroundcolor": "#E5ECF6",
            "gridcolor": "white",
            "gridwidth": 2,
            "linecolor": "white",
            "showbackground": true,
            "ticks": "",
            "zerolinecolor": "white"
           },
           "yaxis": {
            "backgroundcolor": "#E5ECF6",
            "gridcolor": "white",
            "gridwidth": 2,
            "linecolor": "white",
            "showbackground": true,
            "ticks": "",
            "zerolinecolor": "white"
           },
           "zaxis": {
            "backgroundcolor": "#E5ECF6",
            "gridcolor": "white",
            "gridwidth": 2,
            "linecolor": "white",
            "showbackground": true,
            "ticks": "",
            "zerolinecolor": "white"
           }
          },
          "shapedefaults": {
           "line": {
            "color": "#2a3f5f"
           }
          },
          "ternary": {
           "aaxis": {
            "gridcolor": "white",
            "linecolor": "white",
            "ticks": ""
           },
           "baxis": {
            "gridcolor": "white",
            "linecolor": "white",
            "ticks": ""
           },
           "bgcolor": "#E5ECF6",
           "caxis": {
            "gridcolor": "white",
            "linecolor": "white",
            "ticks": ""
           }
          },
          "title": {
           "x": 0.05
          },
          "xaxis": {
           "automargin": true,
           "gridcolor": "white",
           "linecolor": "white",
           "ticks": "",
           "title": {
            "standoff": 15
           },
           "zerolinecolor": "white",
           "zerolinewidth": 2
          },
          "yaxis": {
           "automargin": true,
           "gridcolor": "white",
           "linecolor": "white",
           "ticks": "",
           "title": {
            "standoff": 15
           },
           "zerolinecolor": "white",
           "zerolinewidth": 2
          }
         }
        },
        "width": 800,
        "xaxis": {
         "anchor": "y",
         "domain": [
          0,
          1
         ],
         "title": {
          "text": "number of episodes"
         }
        },
        "yaxis": {
         "anchor": "x",
         "domain": [
          0,
          1
         ],
         "title": {
          "text": "average reward"
         }
        }
       }
      }
     },
     "metadata": {}
    }
   ],
   "metadata": {}
  },
  {
   "cell_type": "code",
   "execution_count": 106,
   "source": [
    "import plotly.graph_objects as go\n",
    "from plotly.subplots import make_subplots\n",
    "\n",
    "from plotly.offline import plot, iplot, init_notebook_mode\n",
    "pd.options.plotting.backend = \"plotly\"\n",
    "trace1 = go.Scatter(x=df_eval_avgReturn[\"step\"], y=df_eval_avgReturn[\"value\"], name =\"reward\",  mode='lines+markers')\n",
    "trace2 = go.Scatter(x=df_eval_avg_EL[\"step\"], y=df_eval_avg_EL[\"value\"], name =\"length\",  mode='lines+markers')\n",
    "fig = make_subplots(specs=[[{\"secondary_y\": True}]])\n",
    "fig.add_trace(trace1)\n",
    "fig.add_trace(trace2, secondary_y=True)\n",
    "fig['layout'].update(height = 600, width = 800)\n",
    "fig.update_xaxes(title_text='number of episodes')\n",
    "fig.update_yaxes(title_text=\"average reward\", secondary_y=False,color =\"blue\")\n",
    "fig.update_yaxes(title_text=\"average episode length\", secondary_y=True, color =\"red\")\n",
    "lines = {'Reward for reaching the target':500}\n",
    "\n",
    "# add lines using absolute references\n",
    "for k in lines.keys():\n",
    "    #print(k)\n",
    "    fig.add_shape(type='line',\n",
    "                yref=\"y\",\n",
    "                xref=\"x\",\n",
    "                x0=-130,\n",
    "                y0=500,\n",
    "                x1=2500,\n",
    "                y1=500,\n",
    "                line=dict(color='black', width=1.5,dash=\"dot\"))\n",
    "    fig.add_annotation(\n",
    "                x=2000,\n",
    "                y=0.2,\n",
    "                yref='paper',\n",
    "                showarrow=False,\n",
    "                text=k)\n",
    "fig.show()\n",
    "import tikzplotlib\n",
    "fig.write_image(\"/home/nils/fig1.svg\")"
   ],
   "outputs": [
    {
     "output_type": "display_data",
     "data": {
      "application/vnd.plotly.v1+json": {
       "config": {
        "plotlyServerURL": "https://plot.ly"
       },
       "data": [
        {
         "mode": "lines+markers",
         "name": "reward",
         "type": "scatter",
         "x": [
          0,
          20,
          40,
          60,
          80,
          100,
          120,
          140,
          160,
          180,
          200,
          210,
          220,
          240,
          260,
          280,
          300,
          320,
          340,
          360,
          380,
          400,
          420,
          440,
          460,
          480,
          500,
          520,
          540,
          560,
          580,
          600,
          620,
          640,
          660,
          680,
          700,
          720,
          740,
          760,
          780,
          800,
          820,
          840,
          860,
          880,
          900,
          920,
          940,
          960,
          980,
          1000,
          1020,
          1040,
          1060,
          1080,
          1100,
          1120,
          1140,
          1160,
          1180,
          1200,
          1220,
          1240,
          1260,
          1280,
          1300,
          1320,
          1340,
          1360,
          1380,
          1400,
          1420,
          1440,
          1460,
          1480,
          1500,
          1520,
          1540,
          1560,
          1580,
          1600,
          1620,
          1640,
          1660,
          1680,
          1700,
          1720,
          1740,
          1760,
          1780,
          1800,
          1820,
          1840
         ],
         "y": [
          169.48690795898438,
          167.4582977294922,
          159.79299926757812,
          161.2372283935547,
          169.1226806640625,
          179.72293090820312,
          196.76107788085938,
          229.3363494873047,
          274.9775390625,
          293.5998840332031,
          293.96063232421875,
          287.8788146972656,
          273.8889465332031,
          253.8455047607422,
          250.0579071044922,
          256.1248474121094,
          240.00308227539062,
          226.4376678466797,
          195.04623413085938,
          172.7133026123047,
          171.36105346679688,
          183.45286560058594,
          183.58399963378906,
          179.37472534179688,
          185.88404846191406,
          175.89364624023438,
          170.1837615966797,
          167.73748779296875,
          167.081787109375,
          171.76242065429688,
          168.87100219726562,
          172.22830200195312,
          176.7419891357422,
          173.7119598388672,
          176.28622436523438,
          173.28805541992188,
          174.88735961914062,
          172.69525146484375,
          173.22256469726562,
          176.03797912597656,
          172.48770141601562,
          171.40164184570312,
          175.58888244628906,
          169.3868865966797,
          171.50088500976562,
          172.6126708984375,
          177.08175659179688,
          174.28736877441406,
          172.55282592773438,
          175.57469177246094,
          179.79537963867188,
          177.79624938964844,
          182.88223266601562,
          186.10842895507812,
          187.85269165039062,
          183.8284912109375,
          179.17446899414062,
          178.99508666992188,
          178.79702758789062,
          215.73117065429688,
          284.8828125,
          481.43798828125,
          985.5120849609375,
          711.3717041015625,
          1317.4954833984375,
          1365.661376953125,
          1163.7825927734375,
          1535.6810302734375,
          1664.658203125,
          1220.436767578125,
          1313.61083984375,
          1323.8040771484375,
          1332.467529296875,
          1202.7353515625,
          942.2587890625,
          1088.255126953125,
          1261.5042724609375,
          1211.6842041015625,
          1111.245361328125,
          1072.964599609375,
          1088.480224609375,
          1034.3245849609375,
          1030.626953125,
          1041.038330078125,
          937.984375,
          1166.1588134765625,
          976.08935546875,
          1046.2332763671875,
          1075.562255859375,
          1116.1417236328125,
          991.1261596679688,
          1293.052978515625,
          1042.4251708984375,
          1408.0985107421875
         ]
        },
        {
         "mode": "lines+markers",
         "name": "length",
         "type": "scatter",
         "x": [
          0,
          20,
          40,
          60,
          80,
          100,
          120,
          140,
          160,
          180,
          200,
          210,
          220,
          240,
          260,
          280,
          300,
          320,
          340,
          360,
          380,
          400,
          420,
          440,
          460,
          480,
          500,
          520,
          540,
          560,
          580,
          600,
          620,
          640,
          660,
          680,
          700,
          720,
          740,
          760,
          780,
          800,
          820,
          840,
          860,
          880,
          900,
          920,
          940,
          960,
          980,
          1000,
          1020,
          1040,
          1060,
          1080,
          1100,
          1120,
          1140,
          1160,
          1180,
          1200,
          1220,
          1240,
          1260,
          1280,
          1300,
          1320,
          1340,
          1360,
          1380,
          1400,
          1420,
          1440,
          1460,
          1480,
          1500,
          1520,
          1540,
          1560,
          1580,
          1600,
          1620,
          1640,
          1660,
          1680,
          1700,
          1720,
          1740,
          1760,
          1780,
          1800,
          1820,
          1840
         ],
         "xaxis": "x",
         "y": [
          100,
          100,
          100,
          100,
          100,
          100,
          100,
          100,
          100,
          100,
          100,
          100,
          100,
          100,
          100,
          100,
          100,
          100,
          100,
          100,
          100,
          100,
          100,
          100,
          100,
          100,
          100,
          100,
          100,
          100,
          100,
          100,
          100,
          100,
          100,
          100,
          100,
          100,
          100,
          100,
          100,
          100,
          100,
          100,
          100,
          100,
          100,
          100,
          100,
          100,
          100,
          100,
          100,
          100,
          100,
          100,
          100,
          100,
          100,
          100,
          100,
          100,
          100,
          100,
          100,
          100,
          100,
          100,
          100,
          100,
          100,
          100,
          100,
          100,
          100,
          100,
          100,
          100,
          100,
          100,
          100,
          100,
          100,
          100,
          100,
          100,
          100,
          100,
          100,
          100,
          100,
          100,
          100,
          100
         ],
         "yaxis": "y2"
        }
       ],
       "layout": {
        "height": 600,
        "template": {
         "data": {
          "bar": [
           {
            "error_x": {
             "color": "#2a3f5f"
            },
            "error_y": {
             "color": "#2a3f5f"
            },
            "marker": {
             "line": {
              "color": "#E5ECF6",
              "width": 0.5
             },
             "pattern": {
              "fillmode": "overlay",
              "size": 10,
              "solidity": 0.2
             }
            },
            "type": "bar"
           }
          ],
          "barpolar": [
           {
            "marker": {
             "line": {
              "color": "#E5ECF6",
              "width": 0.5
             },
             "pattern": {
              "fillmode": "overlay",
              "size": 10,
              "solidity": 0.2
             }
            },
            "type": "barpolar"
           }
          ],
          "carpet": [
           {
            "aaxis": {
             "endlinecolor": "#2a3f5f",
             "gridcolor": "white",
             "linecolor": "white",
             "minorgridcolor": "white",
             "startlinecolor": "#2a3f5f"
            },
            "baxis": {
             "endlinecolor": "#2a3f5f",
             "gridcolor": "white",
             "linecolor": "white",
             "minorgridcolor": "white",
             "startlinecolor": "#2a3f5f"
            },
            "type": "carpet"
           }
          ],
          "choropleth": [
           {
            "colorbar": {
             "outlinewidth": 0,
             "ticks": ""
            },
            "type": "choropleth"
           }
          ],
          "contour": [
           {
            "colorbar": {
             "outlinewidth": 0,
             "ticks": ""
            },
            "colorscale": [
             [
              0,
              "#0d0887"
             ],
             [
              0.1111111111111111,
              "#46039f"
             ],
             [
              0.2222222222222222,
              "#7201a8"
             ],
             [
              0.3333333333333333,
              "#9c179e"
             ],
             [
              0.4444444444444444,
              "#bd3786"
             ],
             [
              0.5555555555555556,
              "#d8576b"
             ],
             [
              0.6666666666666666,
              "#ed7953"
             ],
             [
              0.7777777777777778,
              "#fb9f3a"
             ],
             [
              0.8888888888888888,
              "#fdca26"
             ],
             [
              1,
              "#f0f921"
             ]
            ],
            "type": "contour"
           }
          ],
          "contourcarpet": [
           {
            "colorbar": {
             "outlinewidth": 0,
             "ticks": ""
            },
            "type": "contourcarpet"
           }
          ],
          "heatmap": [
           {
            "colorbar": {
             "outlinewidth": 0,
             "ticks": ""
            },
            "colorscale": [
             [
              0,
              "#0d0887"
             ],
             [
              0.1111111111111111,
              "#46039f"
             ],
             [
              0.2222222222222222,
              "#7201a8"
             ],
             [
              0.3333333333333333,
              "#9c179e"
             ],
             [
              0.4444444444444444,
              "#bd3786"
             ],
             [
              0.5555555555555556,
              "#d8576b"
             ],
             [
              0.6666666666666666,
              "#ed7953"
             ],
             [
              0.7777777777777778,
              "#fb9f3a"
             ],
             [
              0.8888888888888888,
              "#fdca26"
             ],
             [
              1,
              "#f0f921"
             ]
            ],
            "type": "heatmap"
           }
          ],
          "heatmapgl": [
           {
            "colorbar": {
             "outlinewidth": 0,
             "ticks": ""
            },
            "colorscale": [
             [
              0,
              "#0d0887"
             ],
             [
              0.1111111111111111,
              "#46039f"
             ],
             [
              0.2222222222222222,
              "#7201a8"
             ],
             [
              0.3333333333333333,
              "#9c179e"
             ],
             [
              0.4444444444444444,
              "#bd3786"
             ],
             [
              0.5555555555555556,
              "#d8576b"
             ],
             [
              0.6666666666666666,
              "#ed7953"
             ],
             [
              0.7777777777777778,
              "#fb9f3a"
             ],
             [
              0.8888888888888888,
              "#fdca26"
             ],
             [
              1,
              "#f0f921"
             ]
            ],
            "type": "heatmapgl"
           }
          ],
          "histogram": [
           {
            "marker": {
             "pattern": {
              "fillmode": "overlay",
              "size": 10,
              "solidity": 0.2
             }
            },
            "type": "histogram"
           }
          ],
          "histogram2d": [
           {
            "colorbar": {
             "outlinewidth": 0,
             "ticks": ""
            },
            "colorscale": [
             [
              0,
              "#0d0887"
             ],
             [
              0.1111111111111111,
              "#46039f"
             ],
             [
              0.2222222222222222,
              "#7201a8"
             ],
             [
              0.3333333333333333,
              "#9c179e"
             ],
             [
              0.4444444444444444,
              "#bd3786"
             ],
             [
              0.5555555555555556,
              "#d8576b"
             ],
             [
              0.6666666666666666,
              "#ed7953"
             ],
             [
              0.7777777777777778,
              "#fb9f3a"
             ],
             [
              0.8888888888888888,
              "#fdca26"
             ],
             [
              1,
              "#f0f921"
             ]
            ],
            "type": "histogram2d"
           }
          ],
          "histogram2dcontour": [
           {
            "colorbar": {
             "outlinewidth": 0,
             "ticks": ""
            },
            "colorscale": [
             [
              0,
              "#0d0887"
             ],
             [
              0.1111111111111111,
              "#46039f"
             ],
             [
              0.2222222222222222,
              "#7201a8"
             ],
             [
              0.3333333333333333,
              "#9c179e"
             ],
             [
              0.4444444444444444,
              "#bd3786"
             ],
             [
              0.5555555555555556,
              "#d8576b"
             ],
             [
              0.6666666666666666,
              "#ed7953"
             ],
             [
              0.7777777777777778,
              "#fb9f3a"
             ],
             [
              0.8888888888888888,
              "#fdca26"
             ],
             [
              1,
              "#f0f921"
             ]
            ],
            "type": "histogram2dcontour"
           }
          ],
          "mesh3d": [
           {
            "colorbar": {
             "outlinewidth": 0,
             "ticks": ""
            },
            "type": "mesh3d"
           }
          ],
          "parcoords": [
           {
            "line": {
             "colorbar": {
              "outlinewidth": 0,
              "ticks": ""
             }
            },
            "type": "parcoords"
           }
          ],
          "pie": [
           {
            "automargin": true,
            "type": "pie"
           }
          ],
          "scatter": [
           {
            "marker": {
             "colorbar": {
              "outlinewidth": 0,
              "ticks": ""
             }
            },
            "type": "scatter"
           }
          ],
          "scatter3d": [
           {
            "line": {
             "colorbar": {
              "outlinewidth": 0,
              "ticks": ""
             }
            },
            "marker": {
             "colorbar": {
              "outlinewidth": 0,
              "ticks": ""
             }
            },
            "type": "scatter3d"
           }
          ],
          "scattercarpet": [
           {
            "marker": {
             "colorbar": {
              "outlinewidth": 0,
              "ticks": ""
             }
            },
            "type": "scattercarpet"
           }
          ],
          "scattergeo": [
           {
            "marker": {
             "colorbar": {
              "outlinewidth": 0,
              "ticks": ""
             }
            },
            "type": "scattergeo"
           }
          ],
          "scattergl": [
           {
            "marker": {
             "colorbar": {
              "outlinewidth": 0,
              "ticks": ""
             }
            },
            "type": "scattergl"
           }
          ],
          "scattermapbox": [
           {
            "marker": {
             "colorbar": {
              "outlinewidth": 0,
              "ticks": ""
             }
            },
            "type": "scattermapbox"
           }
          ],
          "scatterpolar": [
           {
            "marker": {
             "colorbar": {
              "outlinewidth": 0,
              "ticks": ""
             }
            },
            "type": "scatterpolar"
           }
          ],
          "scatterpolargl": [
           {
            "marker": {
             "colorbar": {
              "outlinewidth": 0,
              "ticks": ""
             }
            },
            "type": "scatterpolargl"
           }
          ],
          "scatterternary": [
           {
            "marker": {
             "colorbar": {
              "outlinewidth": 0,
              "ticks": ""
             }
            },
            "type": "scatterternary"
           }
          ],
          "surface": [
           {
            "colorbar": {
             "outlinewidth": 0,
             "ticks": ""
            },
            "colorscale": [
             [
              0,
              "#0d0887"
             ],
             [
              0.1111111111111111,
              "#46039f"
             ],
             [
              0.2222222222222222,
              "#7201a8"
             ],
             [
              0.3333333333333333,
              "#9c179e"
             ],
             [
              0.4444444444444444,
              "#bd3786"
             ],
             [
              0.5555555555555556,
              "#d8576b"
             ],
             [
              0.6666666666666666,
              "#ed7953"
             ],
             [
              0.7777777777777778,
              "#fb9f3a"
             ],
             [
              0.8888888888888888,
              "#fdca26"
             ],
             [
              1,
              "#f0f921"
             ]
            ],
            "type": "surface"
           }
          ],
          "table": [
           {
            "cells": {
             "fill": {
              "color": "#EBF0F8"
             },
             "line": {
              "color": "white"
             }
            },
            "header": {
             "fill": {
              "color": "#C8D4E3"
             },
             "line": {
              "color": "white"
             }
            },
            "type": "table"
           }
          ]
         },
         "layout": {
          "annotationdefaults": {
           "arrowcolor": "#2a3f5f",
           "arrowhead": 0,
           "arrowwidth": 1
          },
          "autotypenumbers": "strict",
          "coloraxis": {
           "colorbar": {
            "outlinewidth": 0,
            "ticks": ""
           }
          },
          "colorscale": {
           "diverging": [
            [
             0,
             "#8e0152"
            ],
            [
             0.1,
             "#c51b7d"
            ],
            [
             0.2,
             "#de77ae"
            ],
            [
             0.3,
             "#f1b6da"
            ],
            [
             0.4,
             "#fde0ef"
            ],
            [
             0.5,
             "#f7f7f7"
            ],
            [
             0.6,
             "#e6f5d0"
            ],
            [
             0.7,
             "#b8e186"
            ],
            [
             0.8,
             "#7fbc41"
            ],
            [
             0.9,
             "#4d9221"
            ],
            [
             1,
             "#276419"
            ]
           ],
           "sequential": [
            [
             0,
             "#0d0887"
            ],
            [
             0.1111111111111111,
             "#46039f"
            ],
            [
             0.2222222222222222,
             "#7201a8"
            ],
            [
             0.3333333333333333,
             "#9c179e"
            ],
            [
             0.4444444444444444,
             "#bd3786"
            ],
            [
             0.5555555555555556,
             "#d8576b"
            ],
            [
             0.6666666666666666,
             "#ed7953"
            ],
            [
             0.7777777777777778,
             "#fb9f3a"
            ],
            [
             0.8888888888888888,
             "#fdca26"
            ],
            [
             1,
             "#f0f921"
            ]
           ],
           "sequentialminus": [
            [
             0,
             "#0d0887"
            ],
            [
             0.1111111111111111,
             "#46039f"
            ],
            [
             0.2222222222222222,
             "#7201a8"
            ],
            [
             0.3333333333333333,
             "#9c179e"
            ],
            [
             0.4444444444444444,
             "#bd3786"
            ],
            [
             0.5555555555555556,
             "#d8576b"
            ],
            [
             0.6666666666666666,
             "#ed7953"
            ],
            [
             0.7777777777777778,
             "#fb9f3a"
            ],
            [
             0.8888888888888888,
             "#fdca26"
            ],
            [
             1,
             "#f0f921"
            ]
           ]
          },
          "colorway": [
           "#636efa",
           "#EF553B",
           "#00cc96",
           "#ab63fa",
           "#FFA15A",
           "#19d3f3",
           "#FF6692",
           "#B6E880",
           "#FF97FF",
           "#FECB52"
          ],
          "font": {
           "color": "#2a3f5f"
          },
          "geo": {
           "bgcolor": "white",
           "lakecolor": "white",
           "landcolor": "#E5ECF6",
           "showlakes": true,
           "showland": true,
           "subunitcolor": "white"
          },
          "hoverlabel": {
           "align": "left"
          },
          "hovermode": "closest",
          "mapbox": {
           "style": "light"
          },
          "paper_bgcolor": "white",
          "plot_bgcolor": "#E5ECF6",
          "polar": {
           "angularaxis": {
            "gridcolor": "white",
            "linecolor": "white",
            "ticks": ""
           },
           "bgcolor": "#E5ECF6",
           "radialaxis": {
            "gridcolor": "white",
            "linecolor": "white",
            "ticks": ""
           }
          },
          "scene": {
           "xaxis": {
            "backgroundcolor": "#E5ECF6",
            "gridcolor": "white",
            "gridwidth": 2,
            "linecolor": "white",
            "showbackground": true,
            "ticks": "",
            "zerolinecolor": "white"
           },
           "yaxis": {
            "backgroundcolor": "#E5ECF6",
            "gridcolor": "white",
            "gridwidth": 2,
            "linecolor": "white",
            "showbackground": true,
            "ticks": "",
            "zerolinecolor": "white"
           },
           "zaxis": {
            "backgroundcolor": "#E5ECF6",
            "gridcolor": "white",
            "gridwidth": 2,
            "linecolor": "white",
            "showbackground": true,
            "ticks": "",
            "zerolinecolor": "white"
           }
          },
          "shapedefaults": {
           "line": {
            "color": "#2a3f5f"
           }
          },
          "ternary": {
           "aaxis": {
            "gridcolor": "white",
            "linecolor": "white",
            "ticks": ""
           },
           "baxis": {
            "gridcolor": "white",
            "linecolor": "white",
            "ticks": ""
           },
           "bgcolor": "#E5ECF6",
           "caxis": {
            "gridcolor": "white",
            "linecolor": "white",
            "ticks": ""
           }
          },
          "title": {
           "x": 0.05
          },
          "xaxis": {
           "automargin": true,
           "gridcolor": "white",
           "linecolor": "white",
           "ticks": "",
           "title": {
            "standoff": 15
           },
           "zerolinecolor": "white",
           "zerolinewidth": 2
          },
          "yaxis": {
           "automargin": true,
           "gridcolor": "white",
           "linecolor": "white",
           "ticks": "",
           "title": {
            "standoff": 15
           },
           "zerolinecolor": "white",
           "zerolinewidth": 2
          }
         }
        },
        "width": 800,
        "xaxis": {
         "anchor": "y",
         "domain": [
          0,
          0.94
         ],
         "title": {
          "text": "number of episodes"
         }
        },
        "yaxis": {
         "anchor": "x",
         "color": "blue",
         "domain": [
          0,
          1
         ],
         "title": {
          "text": "average reward"
         }
        },
        "yaxis2": {
         "anchor": "x",
         "color": "red",
         "overlaying": "y",
         "side": "right",
         "title": {
          "text": "average episode length"
         }
        }
       }
      }
     },
     "metadata": {}
    }
   ],
   "metadata": {}
  },
  {
   "cell_type": "code",
   "execution_count": 107,
   "source": [
    "df_eval_avgReturn"
   ],
   "outputs": [
    {
     "output_type": "execute_result",
     "data": {
      "text/plain": [
       "      run                    tag  step        value\n",
       "94   eval  Metrics/AverageReturn     0   169.486908\n",
       "95   eval  Metrics/AverageReturn    20   167.458298\n",
       "96   eval  Metrics/AverageReturn    40   159.792999\n",
       "97   eval  Metrics/AverageReturn    60   161.237228\n",
       "98   eval  Metrics/AverageReturn    80   169.122681\n",
       "..    ...                    ...   ...          ...\n",
       "183  eval  Metrics/AverageReturn  1760  1116.141724\n",
       "184  eval  Metrics/AverageReturn  1780   991.126160\n",
       "185  eval  Metrics/AverageReturn  1800  1293.052979\n",
       "186  eval  Metrics/AverageReturn  1820  1042.425171\n",
       "187  eval  Metrics/AverageReturn  1840  1408.098511\n",
       "\n",
       "[94 rows x 4 columns]"
      ],
      "text/html": [
       "<div>\n",
       "<style scoped>\n",
       "    .dataframe tbody tr th:only-of-type {\n",
       "        vertical-align: middle;\n",
       "    }\n",
       "\n",
       "    .dataframe tbody tr th {\n",
       "        vertical-align: top;\n",
       "    }\n",
       "\n",
       "    .dataframe thead th {\n",
       "        text-align: right;\n",
       "    }\n",
       "</style>\n",
       "<table border=\"1\" class=\"dataframe\">\n",
       "  <thead>\n",
       "    <tr style=\"text-align: right;\">\n",
       "      <th></th>\n",
       "      <th>run</th>\n",
       "      <th>tag</th>\n",
       "      <th>step</th>\n",
       "      <th>value</th>\n",
       "    </tr>\n",
       "  </thead>\n",
       "  <tbody>\n",
       "    <tr>\n",
       "      <th>94</th>\n",
       "      <td>eval</td>\n",
       "      <td>Metrics/AverageReturn</td>\n",
       "      <td>0</td>\n",
       "      <td>169.486908</td>\n",
       "    </tr>\n",
       "    <tr>\n",
       "      <th>95</th>\n",
       "      <td>eval</td>\n",
       "      <td>Metrics/AverageReturn</td>\n",
       "      <td>20</td>\n",
       "      <td>167.458298</td>\n",
       "    </tr>\n",
       "    <tr>\n",
       "      <th>96</th>\n",
       "      <td>eval</td>\n",
       "      <td>Metrics/AverageReturn</td>\n",
       "      <td>40</td>\n",
       "      <td>159.792999</td>\n",
       "    </tr>\n",
       "    <tr>\n",
       "      <th>97</th>\n",
       "      <td>eval</td>\n",
       "      <td>Metrics/AverageReturn</td>\n",
       "      <td>60</td>\n",
       "      <td>161.237228</td>\n",
       "    </tr>\n",
       "    <tr>\n",
       "      <th>98</th>\n",
       "      <td>eval</td>\n",
       "      <td>Metrics/AverageReturn</td>\n",
       "      <td>80</td>\n",
       "      <td>169.122681</td>\n",
       "    </tr>\n",
       "    <tr>\n",
       "      <th>...</th>\n",
       "      <td>...</td>\n",
       "      <td>...</td>\n",
       "      <td>...</td>\n",
       "      <td>...</td>\n",
       "    </tr>\n",
       "    <tr>\n",
       "      <th>183</th>\n",
       "      <td>eval</td>\n",
       "      <td>Metrics/AverageReturn</td>\n",
       "      <td>1760</td>\n",
       "      <td>1116.141724</td>\n",
       "    </tr>\n",
       "    <tr>\n",
       "      <th>184</th>\n",
       "      <td>eval</td>\n",
       "      <td>Metrics/AverageReturn</td>\n",
       "      <td>1780</td>\n",
       "      <td>991.126160</td>\n",
       "    </tr>\n",
       "    <tr>\n",
       "      <th>185</th>\n",
       "      <td>eval</td>\n",
       "      <td>Metrics/AverageReturn</td>\n",
       "      <td>1800</td>\n",
       "      <td>1293.052979</td>\n",
       "    </tr>\n",
       "    <tr>\n",
       "      <th>186</th>\n",
       "      <td>eval</td>\n",
       "      <td>Metrics/AverageReturn</td>\n",
       "      <td>1820</td>\n",
       "      <td>1042.425171</td>\n",
       "    </tr>\n",
       "    <tr>\n",
       "      <th>187</th>\n",
       "      <td>eval</td>\n",
       "      <td>Metrics/AverageReturn</td>\n",
       "      <td>1840</td>\n",
       "      <td>1408.098511</td>\n",
       "    </tr>\n",
       "  </tbody>\n",
       "</table>\n",
       "<p>94 rows × 4 columns</p>\n",
       "</div>"
      ]
     },
     "metadata": {},
     "execution_count": 107
    }
   ],
   "metadata": {}
  },
  {
   "cell_type": "code",
   "execution_count": 108,
   "source": [
    "import plotly_express as px\n",
    "fig =px.line(df_eval_avgReturn,x=\"step\",y=\"value\")\n",
    "fig['layout'].update(height = 600, width = 800)\n",
    "fig.show()"
   ],
   "outputs": [
    {
     "output_type": "display_data",
     "data": {
      "application/vnd.plotly.v1+json": {
       "config": {
        "plotlyServerURL": "https://plot.ly"
       },
       "data": [
        {
         "hovertemplate": "step=%{x}<br>value=%{y}<extra></extra>",
         "legendgroup": "",
         "line": {
          "color": "#636efa",
          "dash": "solid"
         },
         "marker": {
          "symbol": "circle"
         },
         "mode": "lines",
         "name": "",
         "orientation": "v",
         "showlegend": false,
         "type": "scatter",
         "x": [
          0,
          20,
          40,
          60,
          80,
          100,
          120,
          140,
          160,
          180,
          200,
          210,
          220,
          240,
          260,
          280,
          300,
          320,
          340,
          360,
          380,
          400,
          420,
          440,
          460,
          480,
          500,
          520,
          540,
          560,
          580,
          600,
          620,
          640,
          660,
          680,
          700,
          720,
          740,
          760,
          780,
          800,
          820,
          840,
          860,
          880,
          900,
          920,
          940,
          960,
          980,
          1000,
          1020,
          1040,
          1060,
          1080,
          1100,
          1120,
          1140,
          1160,
          1180,
          1200,
          1220,
          1240,
          1260,
          1280,
          1300,
          1320,
          1340,
          1360,
          1380,
          1400,
          1420,
          1440,
          1460,
          1480,
          1500,
          1520,
          1540,
          1560,
          1580,
          1600,
          1620,
          1640,
          1660,
          1680,
          1700,
          1720,
          1740,
          1760,
          1780,
          1800,
          1820,
          1840
         ],
         "xaxis": "x",
         "y": [
          169.48690795898438,
          167.4582977294922,
          159.79299926757812,
          161.2372283935547,
          169.1226806640625,
          179.72293090820312,
          196.76107788085938,
          229.3363494873047,
          274.9775390625,
          293.5998840332031,
          293.96063232421875,
          287.8788146972656,
          273.8889465332031,
          253.8455047607422,
          250.0579071044922,
          256.1248474121094,
          240.00308227539062,
          226.4376678466797,
          195.04623413085938,
          172.7133026123047,
          171.36105346679688,
          183.45286560058594,
          183.58399963378906,
          179.37472534179688,
          185.88404846191406,
          175.89364624023438,
          170.1837615966797,
          167.73748779296875,
          167.081787109375,
          171.76242065429688,
          168.87100219726562,
          172.22830200195312,
          176.7419891357422,
          173.7119598388672,
          176.28622436523438,
          173.28805541992188,
          174.88735961914062,
          172.69525146484375,
          173.22256469726562,
          176.03797912597656,
          172.48770141601562,
          171.40164184570312,
          175.58888244628906,
          169.3868865966797,
          171.50088500976562,
          172.6126708984375,
          177.08175659179688,
          174.28736877441406,
          172.55282592773438,
          175.57469177246094,
          179.79537963867188,
          177.79624938964844,
          182.88223266601562,
          186.10842895507812,
          187.85269165039062,
          183.8284912109375,
          179.17446899414062,
          178.99508666992188,
          178.79702758789062,
          215.73117065429688,
          284.8828125,
          481.43798828125,
          985.5120849609375,
          711.3717041015625,
          1317.4954833984375,
          1365.661376953125,
          1163.7825927734375,
          1535.6810302734375,
          1664.658203125,
          1220.436767578125,
          1313.61083984375,
          1323.8040771484375,
          1332.467529296875,
          1202.7353515625,
          942.2587890625,
          1088.255126953125,
          1261.5042724609375,
          1211.6842041015625,
          1111.245361328125,
          1072.964599609375,
          1088.480224609375,
          1034.3245849609375,
          1030.626953125,
          1041.038330078125,
          937.984375,
          1166.1588134765625,
          976.08935546875,
          1046.2332763671875,
          1075.562255859375,
          1116.1417236328125,
          991.1261596679688,
          1293.052978515625,
          1042.4251708984375,
          1408.0985107421875
         ],
         "yaxis": "y"
        }
       ],
       "layout": {
        "height": 600,
        "legend": {
         "tracegroupgap": 0
        },
        "margin": {
         "t": 60
        },
        "template": {
         "data": {
          "bar": [
           {
            "error_x": {
             "color": "#2a3f5f"
            },
            "error_y": {
             "color": "#2a3f5f"
            },
            "marker": {
             "line": {
              "color": "#E5ECF6",
              "width": 0.5
             },
             "pattern": {
              "fillmode": "overlay",
              "size": 10,
              "solidity": 0.2
             }
            },
            "type": "bar"
           }
          ],
          "barpolar": [
           {
            "marker": {
             "line": {
              "color": "#E5ECF6",
              "width": 0.5
             },
             "pattern": {
              "fillmode": "overlay",
              "size": 10,
              "solidity": 0.2
             }
            },
            "type": "barpolar"
           }
          ],
          "carpet": [
           {
            "aaxis": {
             "endlinecolor": "#2a3f5f",
             "gridcolor": "white",
             "linecolor": "white",
             "minorgridcolor": "white",
             "startlinecolor": "#2a3f5f"
            },
            "baxis": {
             "endlinecolor": "#2a3f5f",
             "gridcolor": "white",
             "linecolor": "white",
             "minorgridcolor": "white",
             "startlinecolor": "#2a3f5f"
            },
            "type": "carpet"
           }
          ],
          "choropleth": [
           {
            "colorbar": {
             "outlinewidth": 0,
             "ticks": ""
            },
            "type": "choropleth"
           }
          ],
          "contour": [
           {
            "colorbar": {
             "outlinewidth": 0,
             "ticks": ""
            },
            "colorscale": [
             [
              0,
              "#0d0887"
             ],
             [
              0.1111111111111111,
              "#46039f"
             ],
             [
              0.2222222222222222,
              "#7201a8"
             ],
             [
              0.3333333333333333,
              "#9c179e"
             ],
             [
              0.4444444444444444,
              "#bd3786"
             ],
             [
              0.5555555555555556,
              "#d8576b"
             ],
             [
              0.6666666666666666,
              "#ed7953"
             ],
             [
              0.7777777777777778,
              "#fb9f3a"
             ],
             [
              0.8888888888888888,
              "#fdca26"
             ],
             [
              1,
              "#f0f921"
             ]
            ],
            "type": "contour"
           }
          ],
          "contourcarpet": [
           {
            "colorbar": {
             "outlinewidth": 0,
             "ticks": ""
            },
            "type": "contourcarpet"
           }
          ],
          "heatmap": [
           {
            "colorbar": {
             "outlinewidth": 0,
             "ticks": ""
            },
            "colorscale": [
             [
              0,
              "#0d0887"
             ],
             [
              0.1111111111111111,
              "#46039f"
             ],
             [
              0.2222222222222222,
              "#7201a8"
             ],
             [
              0.3333333333333333,
              "#9c179e"
             ],
             [
              0.4444444444444444,
              "#bd3786"
             ],
             [
              0.5555555555555556,
              "#d8576b"
             ],
             [
              0.6666666666666666,
              "#ed7953"
             ],
             [
              0.7777777777777778,
              "#fb9f3a"
             ],
             [
              0.8888888888888888,
              "#fdca26"
             ],
             [
              1,
              "#f0f921"
             ]
            ],
            "type": "heatmap"
           }
          ],
          "heatmapgl": [
           {
            "colorbar": {
             "outlinewidth": 0,
             "ticks": ""
            },
            "colorscale": [
             [
              0,
              "#0d0887"
             ],
             [
              0.1111111111111111,
              "#46039f"
             ],
             [
              0.2222222222222222,
              "#7201a8"
             ],
             [
              0.3333333333333333,
              "#9c179e"
             ],
             [
              0.4444444444444444,
              "#bd3786"
             ],
             [
              0.5555555555555556,
              "#d8576b"
             ],
             [
              0.6666666666666666,
              "#ed7953"
             ],
             [
              0.7777777777777778,
              "#fb9f3a"
             ],
             [
              0.8888888888888888,
              "#fdca26"
             ],
             [
              1,
              "#f0f921"
             ]
            ],
            "type": "heatmapgl"
           }
          ],
          "histogram": [
           {
            "marker": {
             "pattern": {
              "fillmode": "overlay",
              "size": 10,
              "solidity": 0.2
             }
            },
            "type": "histogram"
           }
          ],
          "histogram2d": [
           {
            "colorbar": {
             "outlinewidth": 0,
             "ticks": ""
            },
            "colorscale": [
             [
              0,
              "#0d0887"
             ],
             [
              0.1111111111111111,
              "#46039f"
             ],
             [
              0.2222222222222222,
              "#7201a8"
             ],
             [
              0.3333333333333333,
              "#9c179e"
             ],
             [
              0.4444444444444444,
              "#bd3786"
             ],
             [
              0.5555555555555556,
              "#d8576b"
             ],
             [
              0.6666666666666666,
              "#ed7953"
             ],
             [
              0.7777777777777778,
              "#fb9f3a"
             ],
             [
              0.8888888888888888,
              "#fdca26"
             ],
             [
              1,
              "#f0f921"
             ]
            ],
            "type": "histogram2d"
           }
          ],
          "histogram2dcontour": [
           {
            "colorbar": {
             "outlinewidth": 0,
             "ticks": ""
            },
            "colorscale": [
             [
              0,
              "#0d0887"
             ],
             [
              0.1111111111111111,
              "#46039f"
             ],
             [
              0.2222222222222222,
              "#7201a8"
             ],
             [
              0.3333333333333333,
              "#9c179e"
             ],
             [
              0.4444444444444444,
              "#bd3786"
             ],
             [
              0.5555555555555556,
              "#d8576b"
             ],
             [
              0.6666666666666666,
              "#ed7953"
             ],
             [
              0.7777777777777778,
              "#fb9f3a"
             ],
             [
              0.8888888888888888,
              "#fdca26"
             ],
             [
              1,
              "#f0f921"
             ]
            ],
            "type": "histogram2dcontour"
           }
          ],
          "mesh3d": [
           {
            "colorbar": {
             "outlinewidth": 0,
             "ticks": ""
            },
            "type": "mesh3d"
           }
          ],
          "parcoords": [
           {
            "line": {
             "colorbar": {
              "outlinewidth": 0,
              "ticks": ""
             }
            },
            "type": "parcoords"
           }
          ],
          "pie": [
           {
            "automargin": true,
            "type": "pie"
           }
          ],
          "scatter": [
           {
            "marker": {
             "colorbar": {
              "outlinewidth": 0,
              "ticks": ""
             }
            },
            "type": "scatter"
           }
          ],
          "scatter3d": [
           {
            "line": {
             "colorbar": {
              "outlinewidth": 0,
              "ticks": ""
             }
            },
            "marker": {
             "colorbar": {
              "outlinewidth": 0,
              "ticks": ""
             }
            },
            "type": "scatter3d"
           }
          ],
          "scattercarpet": [
           {
            "marker": {
             "colorbar": {
              "outlinewidth": 0,
              "ticks": ""
             }
            },
            "type": "scattercarpet"
           }
          ],
          "scattergeo": [
           {
            "marker": {
             "colorbar": {
              "outlinewidth": 0,
              "ticks": ""
             }
            },
            "type": "scattergeo"
           }
          ],
          "scattergl": [
           {
            "marker": {
             "colorbar": {
              "outlinewidth": 0,
              "ticks": ""
             }
            },
            "type": "scattergl"
           }
          ],
          "scattermapbox": [
           {
            "marker": {
             "colorbar": {
              "outlinewidth": 0,
              "ticks": ""
             }
            },
            "type": "scattermapbox"
           }
          ],
          "scatterpolar": [
           {
            "marker": {
             "colorbar": {
              "outlinewidth": 0,
              "ticks": ""
             }
            },
            "type": "scatterpolar"
           }
          ],
          "scatterpolargl": [
           {
            "marker": {
             "colorbar": {
              "outlinewidth": 0,
              "ticks": ""
             }
            },
            "type": "scatterpolargl"
           }
          ],
          "scatterternary": [
           {
            "marker": {
             "colorbar": {
              "outlinewidth": 0,
              "ticks": ""
             }
            },
            "type": "scatterternary"
           }
          ],
          "surface": [
           {
            "colorbar": {
             "outlinewidth": 0,
             "ticks": ""
            },
            "colorscale": [
             [
              0,
              "#0d0887"
             ],
             [
              0.1111111111111111,
              "#46039f"
             ],
             [
              0.2222222222222222,
              "#7201a8"
             ],
             [
              0.3333333333333333,
              "#9c179e"
             ],
             [
              0.4444444444444444,
              "#bd3786"
             ],
             [
              0.5555555555555556,
              "#d8576b"
             ],
             [
              0.6666666666666666,
              "#ed7953"
             ],
             [
              0.7777777777777778,
              "#fb9f3a"
             ],
             [
              0.8888888888888888,
              "#fdca26"
             ],
             [
              1,
              "#f0f921"
             ]
            ],
            "type": "surface"
           }
          ],
          "table": [
           {
            "cells": {
             "fill": {
              "color": "#EBF0F8"
             },
             "line": {
              "color": "white"
             }
            },
            "header": {
             "fill": {
              "color": "#C8D4E3"
             },
             "line": {
              "color": "white"
             }
            },
            "type": "table"
           }
          ]
         },
         "layout": {
          "annotationdefaults": {
           "arrowcolor": "#2a3f5f",
           "arrowhead": 0,
           "arrowwidth": 1
          },
          "autotypenumbers": "strict",
          "coloraxis": {
           "colorbar": {
            "outlinewidth": 0,
            "ticks": ""
           }
          },
          "colorscale": {
           "diverging": [
            [
             0,
             "#8e0152"
            ],
            [
             0.1,
             "#c51b7d"
            ],
            [
             0.2,
             "#de77ae"
            ],
            [
             0.3,
             "#f1b6da"
            ],
            [
             0.4,
             "#fde0ef"
            ],
            [
             0.5,
             "#f7f7f7"
            ],
            [
             0.6,
             "#e6f5d0"
            ],
            [
             0.7,
             "#b8e186"
            ],
            [
             0.8,
             "#7fbc41"
            ],
            [
             0.9,
             "#4d9221"
            ],
            [
             1,
             "#276419"
            ]
           ],
           "sequential": [
            [
             0,
             "#0d0887"
            ],
            [
             0.1111111111111111,
             "#46039f"
            ],
            [
             0.2222222222222222,
             "#7201a8"
            ],
            [
             0.3333333333333333,
             "#9c179e"
            ],
            [
             0.4444444444444444,
             "#bd3786"
            ],
            [
             0.5555555555555556,
             "#d8576b"
            ],
            [
             0.6666666666666666,
             "#ed7953"
            ],
            [
             0.7777777777777778,
             "#fb9f3a"
            ],
            [
             0.8888888888888888,
             "#fdca26"
            ],
            [
             1,
             "#f0f921"
            ]
           ],
           "sequentialminus": [
            [
             0,
             "#0d0887"
            ],
            [
             0.1111111111111111,
             "#46039f"
            ],
            [
             0.2222222222222222,
             "#7201a8"
            ],
            [
             0.3333333333333333,
             "#9c179e"
            ],
            [
             0.4444444444444444,
             "#bd3786"
            ],
            [
             0.5555555555555556,
             "#d8576b"
            ],
            [
             0.6666666666666666,
             "#ed7953"
            ],
            [
             0.7777777777777778,
             "#fb9f3a"
            ],
            [
             0.8888888888888888,
             "#fdca26"
            ],
            [
             1,
             "#f0f921"
            ]
           ]
          },
          "colorway": [
           "#636efa",
           "#EF553B",
           "#00cc96",
           "#ab63fa",
           "#FFA15A",
           "#19d3f3",
           "#FF6692",
           "#B6E880",
           "#FF97FF",
           "#FECB52"
          ],
          "font": {
           "color": "#2a3f5f"
          },
          "geo": {
           "bgcolor": "white",
           "lakecolor": "white",
           "landcolor": "#E5ECF6",
           "showlakes": true,
           "showland": true,
           "subunitcolor": "white"
          },
          "hoverlabel": {
           "align": "left"
          },
          "hovermode": "closest",
          "mapbox": {
           "style": "light"
          },
          "paper_bgcolor": "white",
          "plot_bgcolor": "#E5ECF6",
          "polar": {
           "angularaxis": {
            "gridcolor": "white",
            "linecolor": "white",
            "ticks": ""
           },
           "bgcolor": "#E5ECF6",
           "radialaxis": {
            "gridcolor": "white",
            "linecolor": "white",
            "ticks": ""
           }
          },
          "scene": {
           "xaxis": {
            "backgroundcolor": "#E5ECF6",
            "gridcolor": "white",
            "gridwidth": 2,
            "linecolor": "white",
            "showbackground": true,
            "ticks": "",
            "zerolinecolor": "white"
           },
           "yaxis": {
            "backgroundcolor": "#E5ECF6",
            "gridcolor": "white",
            "gridwidth": 2,
            "linecolor": "white",
            "showbackground": true,
            "ticks": "",
            "zerolinecolor": "white"
           },
           "zaxis": {
            "backgroundcolor": "#E5ECF6",
            "gridcolor": "white",
            "gridwidth": 2,
            "linecolor": "white",
            "showbackground": true,
            "ticks": "",
            "zerolinecolor": "white"
           }
          },
          "shapedefaults": {
           "line": {
            "color": "#2a3f5f"
           }
          },
          "ternary": {
           "aaxis": {
            "gridcolor": "white",
            "linecolor": "white",
            "ticks": ""
           },
           "baxis": {
            "gridcolor": "white",
            "linecolor": "white",
            "ticks": ""
           },
           "bgcolor": "#E5ECF6",
           "caxis": {
            "gridcolor": "white",
            "linecolor": "white",
            "ticks": ""
           }
          },
          "title": {
           "x": 0.05
          },
          "xaxis": {
           "automargin": true,
           "gridcolor": "white",
           "linecolor": "white",
           "ticks": "",
           "title": {
            "standoff": 15
           },
           "zerolinecolor": "white",
           "zerolinewidth": 2
          },
          "yaxis": {
           "automargin": true,
           "gridcolor": "white",
           "linecolor": "white",
           "ticks": "",
           "title": {
            "standoff": 15
           },
           "zerolinecolor": "white",
           "zerolinewidth": 2
          }
         }
        },
        "width": 800,
        "xaxis": {
         "anchor": "y",
         "domain": [
          0,
          1
         ],
         "title": {
          "text": "step"
         }
        },
        "yaxis": {
         "anchor": "x",
         "domain": [
          0,
          1
         ],
         "title": {
          "text": "value"
         }
        }
       }
      }
     },
     "metadata": {}
    }
   ],
   "metadata": {}
  },
  {
   "cell_type": "code",
   "execution_count": 109,
   "source": [
    "# # Filter the DataFrame to only validation data, which is what the subsequent\n",
    "# # analyses and visualization will be focused on.\n",
    "# dfw_validation = dfwep[dfwep.run.str.endswith(\"train\")]\n",
    "# # Get the optimizer value for each row of the validation DataFrame.\n",
    "# optimizer_validation = dfw_validation.run.apply(lambda run: run.split(\",\")[0])\n",
    "\n",
    "# plt.figure(figsize=(16,3))\n",
    "# plt.ylim(-10,500)\n",
    "# sns.lineplot(data=dfw_validation, x=\"step\", y=\"value\",  hue=optimizer_validation).set_title(\"average Return\")\n"
   ],
   "outputs": [],
   "metadata": {}
  },
  {
   "cell_type": "code",
   "execution_count": null,
   "source": [
    "\n"
   ],
   "outputs": [],
   "metadata": {}
  },
  {
   "cell_type": "code",
   "execution_count": 110,
   "source": [
    "pd.options.plotting.backend = \"plotly\"\n",
    "df.plot(x=\"step\",y=\"value\")"
   ],
   "outputs": [
    {
     "output_type": "display_data",
     "data": {
      "application/vnd.plotly.v1+json": {
       "config": {
        "plotlyServerURL": "https://plot.ly"
       },
       "data": [
        {
         "hovertemplate": "step=%{x}<br>value=%{y}<extra></extra>",
         "legendgroup": "",
         "line": {
          "color": "#636efa",
          "dash": "solid"
         },
         "marker": {
          "symbol": "circle"
         },
         "mode": "lines",
         "name": "",
         "showlegend": false,
         "type": "scattergl",
         "x": [
          0,
          20,
          40,
          60,
          80,
          100,
          120,
          140,
          160,
          180,
          200,
          210,
          220,
          240,
          260,
          280,
          300,
          320,
          340,
          360,
          380,
          400,
          420,
          440,
          460,
          480,
          500,
          520,
          540,
          560,
          580,
          600,
          620,
          640,
          660,
          680,
          700,
          720,
          740,
          760,
          780,
          800,
          820,
          840,
          860,
          880,
          900,
          920,
          940,
          960,
          980,
          1000,
          1020,
          1040,
          1060,
          1080,
          1100,
          1120,
          1140,
          1160,
          1180,
          1200,
          1220,
          1240,
          1260,
          1280,
          1300,
          1320,
          1340,
          1360,
          1380,
          1400,
          1420,
          1440,
          1460,
          1480,
          1500,
          1520,
          1540,
          1560,
          1580,
          1600,
          1620,
          1640,
          1660,
          1680,
          1700,
          1720,
          1740,
          1760,
          1780,
          1800,
          1820,
          1840,
          0,
          20,
          40,
          60,
          80,
          100,
          120,
          140,
          160,
          180,
          200,
          210,
          220,
          240,
          260,
          280,
          300,
          320,
          340,
          360,
          380,
          400,
          420,
          440,
          460,
          480,
          500,
          520,
          540,
          560,
          580,
          600,
          620,
          640,
          660,
          680,
          700,
          720,
          740,
          760,
          780,
          800,
          820,
          840,
          860,
          880,
          900,
          920,
          940,
          960,
          980,
          1000,
          1020,
          1040,
          1060,
          1080,
          1100,
          1120,
          1140,
          1160,
          1180,
          1200,
          1220,
          1240,
          1260,
          1280,
          1300,
          1320,
          1340,
          1360,
          1380,
          1400,
          1420,
          1440,
          1460,
          1480,
          1500,
          1520,
          1540,
          1560,
          1580,
          1600,
          1620,
          1640,
          1660,
          1680,
          1700,
          1720,
          1740,
          1760,
          1780,
          1800,
          1820,
          1840,
          0,
          10,
          20,
          30,
          40,
          50,
          60,
          70,
          80,
          90,
          100,
          110,
          120,
          130,
          140,
          150,
          160,
          170,
          180,
          190,
          200,
          210,
          220,
          230,
          240,
          250,
          260,
          270,
          280,
          290,
          300,
          310,
          320,
          330,
          340,
          350,
          360,
          370,
          380,
          390,
          400,
          410,
          420,
          430,
          440,
          450,
          460,
          470,
          480,
          490,
          500,
          510,
          520,
          530,
          540,
          550,
          560,
          570,
          580,
          590,
          600,
          610,
          620,
          630,
          640,
          650,
          660,
          670,
          680,
          690,
          700,
          710,
          720,
          730,
          740,
          750,
          760,
          770,
          780,
          790,
          800,
          810,
          820,
          830,
          840,
          850,
          860,
          870,
          880,
          890,
          900,
          910,
          920,
          930,
          940,
          950,
          960,
          970,
          980,
          990,
          1000,
          1010,
          1020,
          1030,
          1040,
          1050,
          1060,
          1070,
          1080,
          1090,
          1100,
          1110,
          1120,
          1130,
          1140,
          1150,
          1160,
          1170,
          1180,
          1190,
          1200,
          1210,
          1220,
          1230,
          1240,
          1250,
          1260,
          1270,
          1280,
          1290,
          1300,
          1310,
          1320,
          1330,
          1340,
          1350,
          1360,
          1370,
          1380,
          1390,
          1400,
          1410,
          1420,
          1430,
          1440,
          1450,
          1460,
          1470,
          1480,
          1490,
          1500,
          1510,
          1520,
          1530,
          1540,
          1550,
          1560,
          1570,
          1580,
          1590,
          1600,
          1610,
          1620,
          1630,
          1640,
          1650,
          1660,
          1670,
          1680,
          1690,
          1700,
          1710,
          1720,
          1730,
          1740,
          1750,
          1760,
          1770,
          1780,
          1790,
          1800,
          1810,
          1820,
          1830,
          1840,
          1850,
          0,
          10,
          20,
          30,
          40,
          50,
          60,
          70,
          80,
          90,
          100,
          110,
          120,
          130,
          140,
          150,
          160,
          170,
          180,
          190,
          200,
          210,
          220,
          230,
          240,
          250,
          260,
          270,
          280,
          290,
          300,
          310,
          320,
          330,
          340,
          350,
          360,
          370,
          380,
          390,
          400,
          410,
          420,
          430,
          440,
          450,
          460,
          470,
          480,
          490,
          500,
          510,
          520,
          530,
          540,
          550,
          560,
          570,
          580,
          590,
          600,
          610,
          620,
          630,
          640,
          650,
          660,
          670,
          680,
          690,
          700,
          710,
          720,
          730,
          740,
          750,
          760,
          770,
          780,
          790,
          800,
          810,
          820,
          830,
          840,
          850,
          860,
          870,
          880,
          890,
          900,
          910,
          920,
          930,
          940,
          950,
          960,
          970,
          980,
          990,
          1000,
          1010,
          1020,
          1030,
          1040,
          1050,
          1060,
          1070,
          1080,
          1090,
          1100,
          1110,
          1120,
          1130,
          1140,
          1150,
          1160,
          1170,
          1180,
          1190,
          1200,
          1210,
          1220,
          1230,
          1240,
          1250,
          1260,
          1270,
          1280,
          1290,
          1300,
          1310,
          1320,
          1330,
          1340,
          1350,
          1360,
          1370,
          1380,
          1390,
          1400,
          1410,
          1420,
          1430,
          1440,
          1450,
          1460,
          1470,
          1480,
          1490,
          1500,
          1510,
          1520,
          1530,
          1540,
          1550,
          1560,
          1570,
          1580,
          1590,
          1600,
          1610,
          1620,
          1630,
          1640,
          1650,
          1660,
          1670,
          1680,
          1690,
          1700,
          1710,
          1720,
          1730,
          1740,
          1750,
          1760,
          1770,
          1780,
          1790,
          1800,
          1810,
          1820,
          1830,
          1840,
          1850,
          0,
          10,
          20,
          30,
          40,
          50,
          60,
          70,
          80,
          90,
          100,
          110,
          120,
          130,
          140,
          150,
          160,
          170,
          180,
          190,
          200,
          210,
          220,
          230,
          240,
          250,
          260,
          270,
          280,
          290,
          300,
          310,
          320,
          330,
          340,
          350,
          360,
          370,
          380,
          390,
          400,
          410,
          420,
          430,
          440,
          450,
          460,
          470,
          480,
          490,
          500,
          510,
          520,
          530,
          540,
          550,
          560,
          570,
          580,
          590,
          600,
          610,
          620,
          630,
          640,
          650,
          660,
          670,
          680,
          690,
          700,
          710,
          720,
          730,
          740,
          750,
          760,
          770,
          780,
          790,
          800,
          810,
          820,
          830,
          840,
          850,
          860,
          870,
          880,
          890,
          900,
          910,
          920,
          930,
          940,
          950,
          960,
          970,
          980,
          990,
          1000,
          1010,
          1020,
          1030,
          1040,
          1050,
          1060,
          1070,
          1080,
          1090,
          1100,
          1110,
          1120,
          1130,
          1140,
          1150,
          1160,
          1170,
          1180,
          1190,
          1200,
          1210,
          1220,
          1230,
          1240,
          1250,
          1260,
          1270,
          1280,
          1290,
          1300,
          1310,
          1320,
          1330,
          1340,
          1350,
          1360,
          1370,
          1380,
          1390,
          1400,
          1410,
          1420,
          1430,
          1440,
          1450,
          1460,
          1470,
          1480,
          1490,
          1500,
          1510,
          1520,
          1530,
          1540,
          1550,
          1560,
          1570,
          1580,
          1590,
          1600,
          1610,
          1620,
          1630,
          1640,
          1650,
          1660,
          1670,
          1680,
          1690,
          1700,
          1710,
          1720,
          1730,
          1740,
          1750,
          1760,
          1770,
          1780,
          1790,
          1800,
          1810,
          1820,
          1830,
          1840,
          1850,
          10,
          20,
          30,
          40,
          50,
          60,
          70,
          80,
          90,
          100,
          110,
          120,
          130,
          140,
          150,
          160,
          170,
          180,
          190,
          200,
          210,
          220,
          230,
          240,
          250,
          260,
          270,
          280,
          290,
          300,
          310,
          320,
          330,
          340,
          350,
          360,
          370,
          380,
          390,
          400,
          410,
          420,
          430,
          440,
          450,
          460,
          470,
          480,
          490,
          500,
          510,
          520,
          530,
          540,
          550,
          560,
          570,
          580,
          590,
          600,
          610,
          620,
          630,
          640,
          650,
          660,
          670,
          680,
          690,
          700,
          710,
          720,
          730,
          740,
          750,
          760,
          770,
          780,
          790,
          800,
          810,
          820,
          830,
          840,
          850,
          860,
          870,
          880,
          890,
          900,
          910,
          920,
          930,
          940,
          950,
          960,
          970,
          980,
          990,
          1000,
          1010,
          1020,
          1030,
          1040,
          1050,
          1060,
          1070,
          1080,
          1090,
          1100,
          1110,
          1120,
          1130,
          1140,
          1150,
          1160,
          1170,
          1180,
          1190,
          1200,
          1210,
          1220,
          1230,
          1240,
          1250,
          1260,
          1270,
          1280,
          1290,
          1300,
          1310,
          1320,
          1330,
          1340,
          1350,
          1360,
          1370,
          1380,
          1390,
          1400,
          1410,
          1420,
          1430,
          1440,
          1450,
          1460,
          1470,
          1480,
          1490,
          1500,
          1510,
          1520,
          1530,
          1540,
          1550,
          1560,
          1570,
          1580,
          1590,
          1600,
          1610,
          1620,
          1630,
          1640,
          1650,
          1660,
          1670,
          1680,
          1690,
          1700,
          1710,
          1720,
          1730,
          1740,
          1750,
          1760,
          1770,
          1780,
          1790,
          1800,
          1810,
          1820,
          1830,
          1840,
          1850,
          10,
          20,
          30,
          40,
          50,
          60,
          70,
          80,
          90,
          100,
          110,
          120,
          130,
          140,
          150,
          160,
          170,
          180,
          190,
          200,
          210,
          220,
          230,
          240,
          250,
          260,
          270,
          280,
          290,
          300,
          310,
          320,
          330,
          340,
          350,
          360,
          370,
          380,
          390,
          400,
          410,
          420,
          430,
          440,
          450,
          460,
          470,
          480,
          490,
          500,
          510,
          520,
          530,
          540,
          550,
          560,
          570,
          580,
          590,
          600,
          610,
          620,
          630,
          640,
          650,
          660,
          670,
          680,
          690,
          700,
          710,
          720,
          730,
          740,
          750,
          760,
          770,
          780,
          790,
          800,
          810,
          820,
          830,
          840,
          850,
          860,
          870,
          880,
          890,
          900,
          910,
          920,
          930,
          940,
          950,
          960,
          970,
          980,
          990,
          1000,
          1010,
          1020,
          1030,
          1040,
          1050,
          1060,
          1070,
          1080,
          1090,
          1100,
          1110,
          1120,
          1130,
          1140,
          1150,
          1160,
          1170,
          1180,
          1190,
          1200,
          1210,
          1220,
          1230,
          1240,
          1250,
          1260,
          1270,
          1280,
          1290,
          1300,
          1310,
          1320,
          1330,
          1340,
          1350,
          1360,
          1370,
          1380,
          1390,
          1400,
          1410,
          1420,
          1430,
          1440,
          1450,
          1460,
          1470,
          1480,
          1490,
          1500,
          1510,
          1520,
          1530,
          1540,
          1550,
          1560,
          1570,
          1580,
          1590,
          1600,
          1610,
          1620,
          1630,
          1640,
          1650,
          1660,
          1670,
          1680,
          1690,
          1700,
          1710,
          1720,
          1730,
          1740,
          1750,
          1760,
          1770,
          1780,
          1790,
          1800,
          1810,
          1820,
          1830,
          1840,
          1850,
          1860,
          10,
          20,
          30,
          40,
          50,
          60,
          70,
          80,
          90,
          100,
          110,
          120,
          130,
          140,
          150,
          160,
          170,
          180,
          190,
          200,
          210,
          220,
          230,
          240,
          250,
          260,
          270,
          280,
          290,
          300,
          310,
          320,
          330,
          340,
          350,
          360,
          370,
          380,
          390,
          400,
          410,
          420,
          430,
          440,
          450,
          460,
          470,
          480,
          490,
          500,
          510,
          520,
          530,
          540,
          550,
          560,
          570,
          580,
          590,
          600,
          610,
          620,
          630,
          640,
          650,
          660,
          670,
          680,
          690,
          700,
          710,
          720,
          730,
          740,
          750,
          760,
          770,
          780,
          790,
          800,
          810,
          820,
          830,
          840,
          850,
          860,
          870,
          880,
          890,
          900,
          910,
          920,
          930,
          940,
          950,
          960,
          970,
          980,
          990,
          1000,
          1010,
          1020,
          1030,
          1040,
          1050,
          1060,
          1070,
          1080,
          1090,
          1100,
          1110,
          1120,
          1130,
          1140,
          1150,
          1160,
          1170,
          1180,
          1190,
          1200,
          1210,
          1220,
          1230,
          1240,
          1250,
          1260,
          1270,
          1280,
          1290,
          1300,
          1310,
          1320,
          1330,
          1340,
          1350,
          1360,
          1370,
          1380,
          1390,
          1400,
          1410,
          1420,
          1430,
          1440,
          1450,
          1460,
          1470,
          1480,
          1490,
          1500,
          1510,
          1520,
          1530,
          1540,
          1550,
          1560,
          1570,
          1580,
          1590,
          1600,
          1610,
          1620,
          1630,
          1640,
          1650,
          1660,
          1670,
          1680,
          1690,
          1700,
          1710,
          1720,
          1730,
          1740,
          1750,
          1760,
          1770,
          1780,
          1790,
          1800,
          1810,
          1820,
          1830,
          1840,
          1850,
          1860,
          10,
          20,
          30,
          40,
          50,
          60,
          70,
          80,
          90,
          100,
          110,
          120,
          130,
          140,
          150,
          160,
          170,
          180,
          190,
          200,
          210,
          220,
          230,
          240,
          250,
          260,
          270,
          280,
          290,
          300,
          310,
          320,
          330,
          340,
          350,
          360,
          370,
          380,
          390,
          400,
          410,
          420,
          430,
          440,
          450,
          460,
          470,
          480,
          490,
          500,
          510,
          520,
          530,
          540,
          550,
          560,
          570,
          580,
          590,
          600,
          610,
          620,
          630,
          640,
          650,
          660,
          670,
          680,
          690,
          700,
          710,
          720,
          730,
          740,
          750,
          760,
          770,
          780,
          790,
          800,
          810,
          820,
          830,
          840,
          850,
          860,
          870,
          880,
          890,
          900,
          910,
          920,
          930,
          940,
          950,
          960,
          970,
          980,
          990,
          1000,
          1010,
          1020,
          1030,
          1040,
          1050,
          1060,
          1070,
          1080,
          1090,
          1100,
          1110,
          1120,
          1130,
          1140,
          1150,
          1160,
          1170,
          1180,
          1190,
          1200,
          1210,
          1220,
          1230,
          1240,
          1250,
          1260,
          1270,
          1280,
          1290,
          1300,
          1310,
          1320,
          1330,
          1340,
          1350,
          1360,
          1370,
          1380,
          1390,
          1400,
          1410,
          1420,
          1430,
          1440,
          1450,
          1460,
          1470,
          1480,
          1490,
          1500,
          1510,
          1520,
          1530,
          1540,
          1550,
          1560,
          1570,
          1580,
          1590,
          1600,
          1610,
          1620,
          1630,
          1640,
          1650,
          1660,
          1670,
          1680,
          1690,
          1700,
          1710,
          1720,
          1730,
          1740,
          1750,
          1760,
          1770,
          1780,
          1790,
          1800,
          1810,
          1820,
          1830,
          1840,
          1850,
          1860,
          510,
          520,
          530,
          540,
          550,
          560,
          570,
          580,
          590,
          600,
          610,
          620,
          630,
          640,
          650,
          660,
          670,
          680,
          690,
          700,
          710,
          720,
          730,
          740,
          750,
          760,
          770,
          780,
          790,
          800,
          810,
          820,
          830,
          840,
          850,
          860,
          870,
          880,
          890,
          900,
          910,
          920,
          930,
          940,
          950,
          960,
          970,
          980,
          990,
          1000,
          1010,
          1020,
          1030,
          1040,
          1050,
          1060,
          1070,
          1080,
          1090,
          1100,
          1110,
          1120,
          1130,
          1140,
          1150,
          1160,
          1170,
          1180,
          1190,
          1200,
          1210,
          1220,
          1230,
          1240,
          1250,
          1260,
          1270,
          1280,
          1290,
          1300,
          1310,
          1320,
          1330,
          1340,
          1350,
          1360,
          1370,
          1380,
          1390,
          1400,
          1410,
          1420,
          1430,
          1440,
          1450,
          1460,
          1470,
          1480,
          1490,
          1500,
          1510,
          1520,
          1530,
          1540,
          1550,
          1560,
          1570,
          1580,
          1590,
          1600,
          1610,
          1620,
          1630,
          1640,
          1650,
          1660,
          1670,
          1680,
          1690,
          1700,
          1710,
          1720,
          1730,
          1740,
          1750,
          1760,
          1770,
          1780,
          1790,
          1800,
          1810,
          1820,
          1830,
          1840,
          1850,
          1860,
          1870,
          1880,
          1890,
          1900,
          1910,
          1920,
          1930,
          1940,
          1950,
          1960,
          1970,
          1980,
          1990,
          2000,
          2010,
          2020,
          2030,
          2040,
          2050,
          2060,
          2070,
          2080,
          2090,
          2100,
          2110,
          2120,
          2130,
          2140,
          2150,
          2160,
          2170,
          2180,
          2190,
          2200,
          2210,
          2220,
          2230,
          2240,
          2250,
          2260,
          2270,
          2280,
          2290,
          2300,
          2310,
          2320,
          2330,
          2340,
          2350,
          510,
          520,
          530,
          540,
          550,
          560,
          570,
          580,
          590,
          600,
          610,
          620,
          630,
          640,
          650,
          660,
          670,
          680,
          690,
          700,
          710,
          720,
          730,
          740,
          750,
          760,
          770,
          780,
          790,
          800,
          810,
          820,
          830,
          840,
          850,
          860,
          870,
          880,
          890,
          900,
          910,
          920,
          930,
          940,
          950,
          960,
          970,
          980,
          990,
          1000,
          1010,
          1020,
          1030,
          1040,
          1050,
          1060,
          1070,
          1080,
          1090,
          1100,
          1110,
          1120,
          1130,
          1140,
          1150,
          1160,
          1170,
          1180,
          1190,
          1200,
          1210,
          1220,
          1230,
          1240,
          1250,
          1260,
          1270,
          1280,
          1290,
          1300,
          1310,
          1320,
          1330,
          1340,
          1350,
          1360,
          1370,
          1380,
          1390,
          1400,
          1410,
          1420,
          1430,
          1440,
          1450,
          1460,
          1470,
          1480,
          1490,
          1500,
          1510,
          1520,
          1530,
          1540,
          1550,
          1560,
          1570,
          1580,
          1590,
          1600,
          1610,
          1620,
          1630,
          1640,
          1650,
          1660,
          1670,
          1680,
          1690,
          1700,
          1710,
          1720,
          1730,
          1740,
          1750,
          1760,
          1770,
          1780,
          1790,
          1800,
          1810,
          1820,
          1830,
          1840,
          1850,
          1860,
          1870,
          1880,
          1890,
          1900,
          1910,
          1920,
          1930,
          1940,
          1950,
          1960,
          1970,
          1980,
          1990,
          2000,
          2010,
          2020,
          2030,
          2040,
          2050,
          2060,
          2070,
          2080,
          2090,
          2100,
          2110,
          2120,
          2130,
          2140,
          2150,
          2160,
          2170,
          2180,
          2190,
          2200,
          2210,
          2220,
          2230,
          2240,
          2250,
          2260,
          2270,
          2280,
          2290,
          2300,
          2310,
          2320,
          2330,
          2340,
          2350,
          510,
          520,
          530,
          540,
          550,
          560,
          570,
          580,
          590,
          600,
          610,
          620,
          630,
          640,
          650,
          660,
          670,
          680,
          690,
          700,
          710,
          720,
          730,
          740,
          750,
          760,
          770,
          780,
          790,
          800,
          810,
          820,
          830,
          840,
          850,
          860,
          870,
          880,
          890,
          900,
          910,
          920,
          930,
          940,
          950,
          960,
          970,
          980,
          990,
          1000,
          1010,
          1020,
          1030,
          1040,
          1050,
          1060,
          1070,
          1080,
          1090,
          1100,
          1110,
          1120,
          1130,
          1140,
          1150,
          1160,
          1170,
          1180,
          1190,
          1200,
          1210,
          1220,
          1230,
          1240,
          1250,
          1260,
          1270,
          1280,
          1290,
          1300,
          1310,
          1320,
          1330,
          1340,
          1350,
          1360,
          1370,
          1380,
          1390,
          1400,
          1410,
          1420,
          1430,
          1440,
          1450,
          1460,
          1470,
          1480,
          1490,
          1500,
          1510,
          1520,
          1530,
          1540,
          1550,
          1560,
          1570,
          1580,
          1590,
          1600,
          1610,
          1620,
          1630,
          1640,
          1650,
          1660,
          1670,
          1680,
          1690,
          1700,
          1710,
          1720,
          1730,
          1740,
          1750,
          1760,
          1770,
          1780,
          1790,
          1800,
          1810,
          1820,
          1830,
          1840,
          1850,
          1860,
          1870,
          1880,
          1890,
          1900,
          1910,
          1920,
          1930,
          1940,
          1950,
          1960,
          1970,
          1980,
          1990,
          2000,
          2010,
          2020,
          2030,
          2040,
          2050,
          2060,
          2070,
          2080,
          2090,
          2100,
          2110,
          2120,
          2130,
          2140,
          2150,
          2160,
          2170,
          2180,
          2190,
          2200,
          2210,
          2220,
          2230,
          2240,
          2250,
          2260,
          2270,
          2280,
          2290,
          2300,
          2310,
          2320,
          2330,
          2340,
          2350,
          2360,
          5,
          6,
          7,
          8,
          9,
          10,
          11,
          12,
          13,
          14,
          15,
          16,
          17,
          18,
          19,
          20,
          21,
          22,
          23,
          24,
          25,
          26,
          5,
          6,
          7,
          8,
          9,
          10,
          11,
          12,
          13,
          14,
          15,
          16,
          17,
          18,
          19,
          20,
          21,
          22,
          23,
          24,
          25,
          26,
          5,
          6,
          7,
          8,
          9,
          10,
          11,
          12,
          13,
          14,
          15,
          16,
          17,
          18,
          19,
          20,
          21,
          22,
          23,
          24,
          25,
          26,
          10,
          20,
          30,
          40,
          50,
          60,
          70,
          80,
          90,
          100,
          110,
          120,
          130,
          140,
          150,
          160,
          170,
          180,
          190,
          200,
          210,
          220,
          230,
          240,
          250,
          260,
          270,
          280,
          290,
          300,
          310,
          320,
          330,
          340,
          350,
          360,
          370,
          380,
          390,
          400,
          410,
          420,
          430,
          440,
          450,
          460,
          470,
          480,
          490,
          500,
          510,
          520,
          530,
          540,
          550,
          560,
          570,
          580,
          590,
          600,
          610,
          620,
          630,
          640,
          650,
          660,
          670,
          680,
          690,
          700,
          710,
          720,
          730,
          740,
          750,
          760,
          770,
          780,
          790,
          800,
          810,
          820,
          830,
          840,
          850,
          860,
          870,
          880,
          890,
          900,
          910,
          920,
          930,
          940,
          950,
          960,
          970,
          980,
          990,
          1000,
          1010,
          1020,
          1030,
          1040,
          1050,
          1060,
          1070,
          1080,
          1090,
          1100,
          1110,
          1120,
          1130,
          1140,
          1150,
          1160,
          1170,
          1180,
          1190,
          1200,
          1210,
          1220,
          1230,
          1240,
          1250,
          1260,
          1270,
          1280,
          1290,
          1300,
          1310,
          1320,
          1330,
          1340,
          1350,
          1360,
          1370,
          1380,
          1390,
          1400,
          1410,
          1420,
          1430,
          1440,
          1450,
          1460,
          1470,
          1480,
          1490,
          1500,
          1510,
          1520,
          1530,
          1540,
          1550,
          1560,
          1570,
          1580,
          1590,
          1600,
          1610,
          1620,
          1630,
          1640,
          1650,
          1660,
          1670,
          1680,
          1690,
          1700,
          1710,
          1720,
          1730,
          1740,
          1750,
          1760,
          1770,
          1780,
          1790,
          1800,
          1810,
          1820,
          1830,
          1840,
          1850,
          1860
         ],
         "xaxis": "x",
         "y": [
          100,
          100,
          100,
          100,
          100,
          100,
          100,
          100,
          100,
          100,
          100,
          100,
          100,
          100,
          100,
          100,
          100,
          100,
          100,
          100,
          100,
          100,
          100,
          100,
          100,
          100,
          100,
          100,
          100,
          100,
          100,
          100,
          100,
          100,
          100,
          100,
          100,
          100,
          100,
          100,
          100,
          100,
          100,
          100,
          100,
          100,
          100,
          100,
          100,
          100,
          100,
          100,
          100,
          100,
          100,
          100,
          100,
          100,
          100,
          100,
          100,
          100,
          100,
          100,
          100,
          100,
          100,
          100,
          100,
          100,
          100,
          100,
          100,
          100,
          100,
          100,
          100,
          100,
          100,
          100,
          100,
          100,
          100,
          100,
          100,
          100,
          100,
          100,
          100,
          100,
          100,
          100,
          100,
          100,
          169.48690795898438,
          167.4582977294922,
          159.79299926757812,
          161.2372283935547,
          169.1226806640625,
          179.72293090820312,
          196.76107788085938,
          229.3363494873047,
          274.9775390625,
          293.5998840332031,
          293.96063232421875,
          287.8788146972656,
          273.8889465332031,
          253.8455047607422,
          250.0579071044922,
          256.1248474121094,
          240.00308227539062,
          226.4376678466797,
          195.04623413085938,
          172.7133026123047,
          171.36105346679688,
          183.45286560058594,
          183.58399963378906,
          179.37472534179688,
          185.88404846191406,
          175.89364624023438,
          170.1837615966797,
          167.73748779296875,
          167.081787109375,
          171.76242065429688,
          168.87100219726562,
          172.22830200195312,
          176.7419891357422,
          173.7119598388672,
          176.28622436523438,
          173.28805541992188,
          174.88735961914062,
          172.69525146484375,
          173.22256469726562,
          176.03797912597656,
          172.48770141601562,
          171.40164184570312,
          175.58888244628906,
          169.3868865966797,
          171.50088500976562,
          172.6126708984375,
          177.08175659179688,
          174.28736877441406,
          172.55282592773438,
          175.57469177246094,
          179.79537963867188,
          177.79624938964844,
          182.88223266601562,
          186.10842895507812,
          187.85269165039062,
          183.8284912109375,
          179.17446899414062,
          178.99508666992188,
          178.79702758789062,
          215.73117065429688,
          284.8828125,
          481.43798828125,
          985.5120849609375,
          711.3717041015625,
          1317.4954833984375,
          1365.661376953125,
          1163.7825927734375,
          1535.6810302734375,
          1664.658203125,
          1220.436767578125,
          1313.61083984375,
          1323.8040771484375,
          1332.467529296875,
          1202.7353515625,
          942.2587890625,
          1088.255126953125,
          1261.5042724609375,
          1211.6842041015625,
          1111.245361328125,
          1072.964599609375,
          1088.480224609375,
          1034.3245849609375,
          1030.626953125,
          1041.038330078125,
          937.984375,
          1166.1588134765625,
          976.08935546875,
          1046.2332763671875,
          1075.562255859375,
          1116.1417236328125,
          991.1261596679688,
          1293.052978515625,
          1042.4251708984375,
          1408.0985107421875,
          -7.317885875701904,
          -8.472484588623047,
          -9.56451416015625,
          -10.896842956542969,
          -12.489355087280273,
          -14.385881423950195,
          -16.1527099609375,
          -17.53467559814453,
          -18.397415161132812,
          -18.486080169677734,
          -18.410736083984375,
          -18.69500732421875,
          -19.187959671020508,
          -19.41646957397461,
          -19.661605834960938,
          -19.955589294433594,
          -20.240222930908203,
          -20.46396255493164,
          -20.88147735595703,
          -21.20472526550293,
          -21.370800018310547,
          -21.87255859375,
          -22.139177322387695,
          -22.59475326538086,
          -22.872539520263672,
          -23.113426208496094,
          -23.55364227294922,
          -23.82263946533203,
          -24.30592918395996,
          -24.553096771240234,
          -24.792667388916016,
          -25.179107666015625,
          -25.333908081054688,
          -25.86052703857422,
          -25.913442611694336,
          -26.348791122436523,
          -26.63970947265625,
          -26.94158935546875,
          -27.332551956176758,
          -27.52145767211914,
          -27.86916732788086,
          -28.23294448852539,
          -28.4621639251709,
          -28.819311141967773,
          -29.13726043701172,
          -29.431381225585938,
          -29.68317413330078,
          -29.853933334350586,
          -30.28989601135254,
          -30.579509735107422,
          -30.888160705566406,
          -31.077342987060547,
          -31.345775604248047,
          -31.5518798828125,
          -31.966655731201172,
          -32.18211364746094,
          -32.52190399169922,
          -32.73992156982422,
          -33.065277099609375,
          -33.25539016723633,
          -33.68126678466797,
          -33.71902084350586,
          -34.13904571533203,
          -34.42489242553711,
          -34.71206283569336,
          -34.98423767089844,
          -35.42369079589844,
          -35.38355255126953,
          -35.86427688598633,
          -36.04554748535156,
          -36.25543212890625,
          -36.75312805175781,
          -36.91825866699219,
          -37.401824951171875,
          -37.60599899291992,
          -37.66981506347656,
          -38.12998962402344,
          -38.45928955078125,
          -38.652748107910156,
          -38.9865608215332,
          -39.09587860107422,
          -39.54945373535156,
          -40.067535400390625,
          -40.101341247558594,
          -40.27410888671875,
          -40.8967170715332,
          -41.033729553222656,
          -41.326080322265625,
          -41.588409423828125,
          -41.82869338989258,
          -42.20197296142578,
          -42.33247375488281,
          -42.92270278930664,
          -43.23309326171875,
          -43.515384674072266,
          -43.8527717590332,
          -43.81669235229492,
          -44.20562744140625,
          -44.57384490966797,
          -45.02093505859375,
          -45.062808990478516,
          -45.317996978759766,
          -45.79133605957031,
          -46.13694763183594,
          -46.26539611816406,
          -46.484718322753906,
          -46.88811492919922,
          -47.38452911376953,
          -47.57557678222656,
          -47.864646911621094,
          -48.132049560546875,
          -48.301673889160156,
          -48.73773193359375,
          -48.85273361206055,
          -50.14476013183594,
          -51.21900939941406,
          -49.87303924560547,
          -51.37301254272461,
          -50.53379821777344,
          -50.03801727294922,
          -52.998592376708984,
          -52.612762451171875,
          -50.334495544433594,
          -52.460975646972656,
          -54.25005340576172,
          -53.11692428588867,
          -53.22001266479492,
          -54.432342529296875,
          -52.786922454833984,
          -54.676490783691406,
          -55.42231750488281,
          -55.42408752441406,
          -55.66798400878906,
          -54.84318542480469,
          -59.13969421386719,
          -56.62434005737305,
          -59.51731872558594,
          -60.274478912353516,
          -59.398094177246094,
          -60.47358322143555,
          -60.58787155151367,
          -58.698020935058594,
          -60.752532958984375,
          -63.168800354003906,
          -59.816436767578125,
          -63.35690689086914,
          -61.295021057128906,
          -64.10662841796875,
          -62.93086242675781,
          -62.09185791015625,
          -63.70343017578125,
          -63.760398864746094,
          -65.38290405273438,
          -65.73942565917969,
          -65.96952819824219,
          -66.41607666015625,
          -66.64715576171875,
          -66.08255004882812,
          -67.17828369140625,
          -72.75914001464844,
          -68.63114929199219,
          -68.45687103271484,
          -69.14927673339844,
          -71.97746276855469,
          -73.12206268310547,
          -74.26084899902344,
          -71.79388427734375,
          -70.82108306884766,
          -75.01586151123047,
          -74.08190155029297,
          -76.6153564453125,
          -73.49663543701172,
          -76.20033264160156,
          -74.86963653564453,
          -77.85286712646484,
          -77.21797943115234,
          -78.99093627929688,
          -81.89926147460938,
          -78.15727233886719,
          -79.30052947998047,
          -78.6825942993164,
          -82.81830596923828,
          -79.65640258789062,
          -82.65957641601562,
          -83.68885040283203,
          -84.33474731445312,
          0,
          -0.03068823739886284,
          -0.0611734539270401,
          -0.09163691103458405,
          -0.12109801173210144,
          -0.15014968812465668,
          -0.1768636554479599,
          -0.19994781911373138,
          -0.2255888432264328,
          -0.25493985414505005,
          -0.28452539443969727,
          -0.310111939907074,
          -0.3380930423736572,
          -0.36192062497138977,
          -0.38827258348464966,
          -0.4173193573951721,
          -0.43857231736183167,
          -0.4673829674720764,
          -0.4903143644332886,
          -0.5245778560638428,
          -0.5365675687789917,
          -0.5879852175712585,
          -0.6036678552627563,
          -0.6195449829101562,
          -0.6522417068481445,
          -0.6868458986282349,
          -0.7067859768867493,
          -0.743233323097229,
          -0.7608243823051453,
          -0.7799193859100342,
          -0.7865996360778809,
          -0.8478449583053589,
          -0.8527926206588745,
          -0.9038738012313843,
          -0.922404944896698,
          -0.9460902214050293,
          -0.9759370684623718,
          -1.0162758827209473,
          -1.0454814434051514,
          -1.0563724040985107,
          -1.0912830829620361,
          -1.120462417602539,
          -1.1583707332611084,
          -1.1922037601470947,
          -1.210774302482605,
          -1.2567527294158936,
          -1.2898030281066895,
          -1.321484088897705,
          -1.3436288833618164,
          -1.3560996055603027,
          -1.3934110403060913,
          -1.4253579378128052,
          -1.457183837890625,
          -1.5059189796447754,
          -1.5393013954162598,
          -1.5991051197052002,
          -1.587882399559021,
          -1.636736273765564,
          -1.6739518642425537,
          -1.722381591796875,
          -1.7492802143096924,
          -1.7894822359085083,
          -1.7878779172897339,
          -1.8327471017837524,
          -1.8817944526672363,
          -1.9075735807418823,
          -1.9466270208358765,
          -1.978031873703003,
          -2.0161783695220947,
          -2.050018787384033,
          -2.0836191177368164,
          -2.1199331283569336,
          -2.1441121101379395,
          -2.1914706230163574,
          -2.227673292160034,
          -2.2444024085998535,
          -2.276792049407959,
          -2.332569122314453,
          -2.3530004024505615,
          -2.373664140701294,
          -2.419161796569824,
          -2.4636497497558594,
          -2.4850363731384277,
          -2.5068156719207764,
          -2.549443483352661,
          -2.5815491676330566,
          -2.6115450859069824,
          -2.6573424339294434,
          -2.686835765838623,
          -2.71736478805542,
          -2.744263172149658,
          -2.7768115997314453,
          -2.8126931190490723,
          -2.841156005859375,
          -2.875098705291748,
          -2.9164769649505615,
          -2.947448492050171,
          -2.9950735569000244,
          -3.00184965133667,
          -3.0369677543640137,
          -3.070857286453247,
          -3.103567600250244,
          -3.1353275775909424,
          -3.1744613647460938,
          -3.217560052871704,
          -3.2341606616973877,
          -3.2708334922790527,
          -3.2972278594970703,
          -3.3299078941345215,
          -3.339216947555542,
          -3.382676124572754,
          -3.435978889465332,
          -3.4680380821228027,
          -3.490199565887451,
          -3.5192527770996094,
          -3.544023036956787,
          -3.5232045650482178,
          -3.569270133972168,
          -3.4911599159240723,
          -3.3449316024780273,
          -3.375074863433838,
          -2.751687526702881,
          -2.724179267883301,
          -3.1942522525787354,
          -3.179574489593506,
          -2.8019590377807617,
          -2.69258451461792,
          -2.8584024906158447,
          -2.826399326324463,
          -2.9945273399353027,
          -2.9671034812927246,
          -2.5520524978637695,
          -2.563690662384033,
          -3.0851125717163086,
          -2.843925952911377,
          -1.9105514287948608,
          -2.365480422973633,
          -1.8868499994277954,
          -1.9429439306259155,
          -2.1931889057159424,
          -2.2913436889648438,
          -2.092721700668335,
          -2.247791290283203,
          -2.162778854370117,
          -2.2262561321258545,
          -2.54719614982605,
          -2.084109306335449,
          -2.4783358573913574,
          -2.342747211456299,
          -2.342480182647705,
          -2.4482905864715576,
          -2.1241989135742188,
          -2.298795700073242,
          -2.0642738342285156,
          -1.8227485418319702,
          -2.1184544563293457,
          -2.0384297370910645,
          -2.301048517227173,
          -2.451223850250244,
          -1.6731691360473633,
          -2.007449150085449,
          -1.8731555938720703,
          -2.1761255264282227,
          -2.046550750732422,
          -1.570918083190918,
          -1.6520590782165527,
          -1.9321705102920532,
          -2.252941370010376,
          -2.19712495803833,
          -1.7494715452194214,
          -2.0146379470825195,
          -1.8072497844696045,
          -2.171769142150879,
          -2.1448018550872803,
          -1.9781746864318848,
          -1.5776053667068481,
          -1.7109289169311523,
          -1.6720993518829346,
          -1.625124216079712,
          -1.997070074081421,
          -2.1148548126220703,
          -1.53373122215271,
          -1.5668213367462158,
          -2.051553726196289,
          -1.6485594511032104,
          -1.446729302406311,
          93.55658721923828,
          78.48408508300781,
          66.18972778320312,
          52.04122543334961,
          29.568618774414062,
          18.835756301879883,
          8.109075546264648,
          6.654703617095947,
          7.747478008270264,
          7.448306560516357,
          7.361762523651123,
          8.800605773925781,
          7.890896797180176,
          6.262575626373291,
          8.541743278503418,
          6.2131266593933105,
          7.083212852478027,
          7.29834508895874,
          7.679354667663574,
          9.959936141967773,
          8.549449920654297,
          6.247291088104248,
          9.402555465698242,
          6.482879638671875,
          7.874877452850342,
          7.1060051918029785,
          6.608053207397461,
          8.6761474609375,
          6.204301357269287,
          7.424293518066406,
          6.226787567138672,
          5.62306547164917,
          6.994749546051025,
          6.445903778076172,
          4.898919582366943,
          7.5349602699279785,
          7.37398624420166,
          5.738102912902832,
          7.508879661560059,
          6.173429489135742,
          4.974593162536621,
          5.78875207901001,
          5.8998870849609375,
          6.206259727478027,
          6.399256706237793,
          5.514382362365723,
          6.98068380355835,
          5.0107598304748535,
          4.209725856781006,
          4.948999881744385,
          4.970561981201172,
          3.284670352935791,
          3.244436502456665,
          4.295739650726318,
          4.483151435852051,
          3.996215581893921,
          2.9697794914245605,
          2.8632149696350098,
          5.832627296447754,
          3.268922805786133,
          2.175666570663452,
          2.3799080848693848,
          1.9635529518127441,
          3.26092529296875,
          5.025344371795654,
          2.1237220764160156,
          2.2933759689331055,
          3.7476089000701904,
          1.8879190683364868,
          4.597023010253906,
          1.471487045288086,
          3.3787143230438232,
          2.0028064250946045,
          3.9807536602020264,
          4.1320695877075195,
          3.1064586639404297,
          1.8428237438201904,
          1.4335869550704956,
          2.386936664581299,
          5.169745445251465,
          1.6433378458023071,
          1.5837713479995728,
          2.3214046955108643,
          2.196855068206787,
          2.5570361614227295,
          1.328356146812439,
          2.04282808303833,
          1.8586422204971313,
          3.2862401008605957,
          0.9381541013717651,
          1.7991211414337158,
          0.865057110786438,
          2.4203968048095703,
          2.804713249206543,
          2.716231107711792,
          4.018730640411377,
          0.8316202163696289,
          1.9333463907241821,
          2.3288540840148926,
          1.6626973152160645,
          2.7415661811828613,
          2.068878650665283,
          1.7789071798324585,
          2.943737506866455,
          1.2747992277145386,
          1.0621130466461182,
          1.0362905263900757,
          1.5604435205459595,
          1.4919711351394653,
          1.455176830291748,
          1.569916844367981,
          1.5505831241607666,
          3.8669321537017822,
          0.9110198020935059,
          3.5093650817871094,
          7.128740310668945,
          2.408802032470703,
          786.5015258789062,
          2.6160340309143066,
          2.9453468322753906,
          3.1558566093444824,
          3.564499616622925,
          4.225863456726074,
          4.214751243591309,
          777.4497680664062,
          3.4869227409362793,
          3.5517566204071045,
          3.5303568840026855,
          4.315537452697754,
          3.365999698638916,
          4.020254135131836,
          3.208693742752075,
          5.197185516357422,
          2.5925369262695312,
          7.288516044616699,
          5.501981735229492,
          753.7578125,
          752.66796875,
          6.859410285949707,
          6.4971208572387695,
          755.2529907226562,
          7.107590675354004,
          5.036510467529297,
          7.308681488037109,
          6.368105888366699,
          6.923640727996826,
          6.083827018737793,
          8.711941719055176,
          6.2191338539123535,
          3.3166966438293457,
          737.9459228515625,
          5.562190055847168,
          741.9892578125,
          5.99998664855957,
          9.465258598327637,
          1456.63134765625,
          6.578577041625977,
          5.698064804077148,
          7.249719619750977,
          725.22802734375,
          733.5023803710938,
          8.026575088500977,
          7.0617475509643555,
          9.27485466003418,
          1428.71826171875,
          718.5223999023438,
          9.058619499206543,
          8.469442367553711,
          708.5655517578125,
          708.10595703125,
          706.2841186523438,
          9.778291702270508,
          699.3272705078125,
          709.0496215820312,
          698.33251953125,
          1387.4232177734375,
          11.792377471923828,
          20.26028823852539,
          690.5632934570312,
          685.581787109375,
          8.78018569946289,
          680.0811767578125,
          11.428352355957031,
          682.921630859375,
          681.635009765625,
          1332.67138671875,
          100,
          100,
          100,
          100,
          100,
          100,
          100,
          100,
          100,
          100,
          100,
          100,
          100,
          100,
          100,
          100,
          100,
          100,
          100,
          100,
          100,
          0,
          0,
          0,
          0,
          0,
          0,
          0,
          0,
          0,
          110,
          110,
          110,
          110,
          110,
          110,
          110,
          110,
          110,
          110,
          105,
          105,
          105,
          105,
          105,
          105,
          105,
          105,
          105,
          105,
          103.33333587646484,
          103.33333587646484,
          103.33333587646484,
          103.33333587646484,
          103.33333587646484,
          103.33333587646484,
          103.33333587646484,
          103.33333587646484,
          103.33333587646484,
          103.33333587646484,
          102.5,
          102.5,
          102.5,
          102.5,
          102.5,
          102.5,
          102.5,
          102.5,
          102.5,
          102.5,
          102,
          102,
          102,
          102,
          102,
          102,
          102,
          102,
          102,
          102,
          100,
          100,
          100,
          100,
          100,
          100,
          100,
          100,
          100,
          100,
          100,
          100,
          100,
          100,
          100,
          100,
          100,
          100,
          100,
          100,
          100,
          100,
          100,
          100,
          100,
          100,
          100,
          100,
          100,
          100,
          100,
          100,
          83.5999984741211,
          83.5999984741211,
          83.5999984741211,
          83.5999984741211,
          83.5999984741211,
          83.5999984741211,
          83.5999984741211,
          83.5999984741211,
          83.5999984741211,
          83.5999984741211,
          83.5999984741211,
          83.5999984741211,
          83.5999984741211,
          83.5999984741211,
          83.5999984741211,
          83.5999984741211,
          83.5999984741211,
          83.5999984741211,
          83.5999984741211,
          83.5999984741211,
          83.4000015258789,
          83.4000015258789,
          83.4000015258789,
          83.4000015258789,
          83.4000015258789,
          83.4000015258789,
          83.4000015258789,
          83.4000015258789,
          83.4000015258789,
          83.4000015258789,
          83.4000015258789,
          83.4000015258789,
          83.4000015258789,
          83.4000015258789,
          83.4000015258789,
          83.4000015258789,
          83.4000015258789,
          83.4000015258789,
          83.4000015258789,
          83.4000015258789,
          83.4000015258789,
          80.80000305175781,
          80.80000305175781,
          66.4000015258789,
          66.4000015258789,
          66.4000015258789,
          66.4000015258789,
          66.4000015258789,
          66.4000015258789,
          66.4000015258789,
          66.4000015258789,
          66.4000015258789,
          66.4000015258789,
          66.5999984741211,
          66.5999984741211,
          66.5999984741211,
          66.5999984741211,
          66.5999984741211,
          66.5999984741211,
          66.5999984741211,
          66.5999984741211,
          62,
          62,
          62,
          62,
          62,
          62,
          62,
          62,
          62,
          62,
          62,
          62,
          233.9442596435547,
          233.9442596435547,
          233.9442596435547,
          233.9442596435547,
          233.9442596435547,
          233.9442596435547,
          233.9442596435547,
          233.9442596435547,
          233.9442596435547,
          239.5263671875,
          239.5263671875,
          239.5263671875,
          239.5263671875,
          239.5263671875,
          239.5263671875,
          239.5263671875,
          239.5263671875,
          239.5263671875,
          239.5263671875,
          222.46054077148438,
          222.46054077148438,
          0,
          0,
          0,
          0,
          0,
          0,
          0,
          0,
          0,
          232.2338409423828,
          232.2338409423828,
          232.2338409423828,
          232.2338409423828,
          232.2338409423828,
          232.2338409423828,
          232.2338409423828,
          232.2338409423828,
          232.2338409423828,
          232.2338409423828,
          211.15045166015625,
          211.15045166015625,
          211.15045166015625,
          211.15045166015625,
          211.15045166015625,
          211.15045166015625,
          211.15045166015625,
          211.15045166015625,
          211.15045166015625,
          211.15045166015625,
          202.79046630859375,
          202.79046630859375,
          202.79046630859375,
          202.79046630859375,
          202.79046630859375,
          202.79046630859375,
          202.79046630859375,
          202.79046630859375,
          202.79046630859375,
          202.79046630859375,
          212.50830078125,
          212.50830078125,
          212.50830078125,
          212.50830078125,
          212.50830078125,
          212.50830078125,
          212.50830078125,
          212.50830078125,
          212.50830078125,
          212.50830078125,
          227.88882446289062,
          227.88882446289062,
          227.88882446289062,
          227.88882446289062,
          227.88882446289062,
          227.88882446289062,
          227.88882446289062,
          227.88882446289062,
          227.88882446289062,
          227.88882446289062,
          223.5751953125,
          223.5751953125,
          223.5751953125,
          223.5751953125,
          223.5751953125,
          223.5751953125,
          223.5751953125,
          223.5751953125,
          223.5751953125,
          223.5751953125,
          231.0397491455078,
          231.0397491455078,
          231.0397491455078,
          231.0397491455078,
          231.0397491455078,
          231.0397491455078,
          231.0397491455078,
          231.0397491455078,
          231.0397491455078,
          231.0397491455078,
          241.5989227294922,
          241.5989227294922,
          241.5989227294922,
          241.5989227294922,
          241.5989227294922,
          241.5989227294922,
          241.5989227294922,
          241.5989227294922,
          241.5989227294922,
          241.5989227294922,
          237.3598175048828,
          237.3598175048828,
          289.19232177734375,
          289.19232177734375,
          289.19232177734375,
          289.19232177734375,
          289.19232177734375,
          289.19232177734375,
          289.19232177734375,
          289.19232177734375,
          289.19232177734375,
          289.19232177734375,
          299.0574645996094,
          299.0574645996094,
          299.0574645996094,
          299.0574645996094,
          299.0574645996094,
          299.0574645996094,
          299.0574645996094,
          299.0574645996094,
          299.0574645996094,
          299.0574645996094,
          422.34600830078125,
          422.34600830078125,
          422.34600830078125,
          422.34600830078125,
          422.34600830078125,
          422.34600830078125,
          422.34600830078125,
          422.34600830078125,
          422.34600830078125,
          422.34600830078125,
          468.48614501953125,
          468.48614501953125,
          468.48614501953125,
          468.48614501953125,
          468.48614501953125,
          468.48614501953125,
          468.48614501953125,
          468.48614501953125,
          468.48614501953125,
          468.48614501953125,
          536.2322387695312,
          531.5345458984375,
          531.5345458984375,
          615.8965454101562,
          615.8965454101562,
          615.8965454101562,
          615.8965454101562,
          615.8965454101562,
          615.8965454101562,
          615.8965454101562,
          615.8965454101562,
          615.8965454101562,
          615.8965454101562,
          576.2653198242188,
          576.2653198242188,
          576.2653198242188,
          576.2653198242188,
          576.2653198242188,
          576.2653198242188,
          576.2653198242188,
          576.2653198242188,
          674.8909912109375,
          674.8909912109375,
          674.8909912109375,
          674.8909912109375,
          674.8909912109375,
          674.8909912109375,
          674.8909912109375,
          674.8909912109375,
          674.8909912109375,
          674.8909912109375,
          720.6781005859375,
          720.6781005859375,
          720.6781005859375,
          510,
          520,
          530,
          540,
          550,
          560,
          570,
          580,
          590,
          600,
          610,
          620,
          630,
          640,
          650,
          660,
          670,
          680,
          690,
          700,
          710,
          720,
          730,
          740,
          750,
          760,
          770,
          780,
          790,
          800,
          810,
          820,
          830,
          840,
          850,
          860,
          870,
          880,
          890,
          900,
          910,
          920,
          930,
          940,
          950,
          960,
          970,
          980,
          990,
          1000,
          1010,
          1020,
          1030,
          1040,
          1050,
          1060,
          1070,
          1080,
          1090,
          1100,
          1110,
          1120,
          1130,
          1140,
          1150,
          1160,
          1170,
          1180,
          1190,
          1200,
          1210,
          1220,
          1230,
          1240,
          1250,
          1260,
          1270,
          1280,
          1290,
          1300,
          1310,
          1320,
          1330,
          1340,
          1350,
          1360,
          1370,
          1380,
          1390,
          1400,
          1410,
          1420,
          1430,
          1440,
          1450,
          1460,
          1470,
          1480,
          1490,
          1500,
          1510,
          1520,
          1530,
          1540,
          1550,
          1560,
          1570,
          1580,
          1590,
          1600,
          1610,
          1620,
          1630,
          1640,
          1650,
          1660,
          1670,
          1680,
          1690,
          1700,
          1710,
          1720,
          1730,
          1740,
          1750,
          1760,
          1770,
          1780,
          1790,
          1800,
          1810,
          1820,
          1830,
          1840,
          1850,
          1860,
          1870,
          1880,
          1890,
          1900,
          1910,
          1920,
          1930,
          1940,
          1950,
          1960,
          1970,
          1980,
          1990,
          2000,
          2010,
          2020,
          2030,
          2040,
          2050,
          2060,
          2070,
          2080,
          2090,
          2100,
          2110,
          2120,
          2130,
          2140,
          2150,
          2160,
          2170,
          2180,
          2190,
          2200,
          2210,
          2220,
          2230,
          2240,
          2250,
          2260,
          2270,
          2280,
          2290,
          2300,
          2310,
          2320,
          2330,
          2340,
          2350,
          2360,
          5,
          5,
          5,
          5,
          5,
          5,
          5,
          5,
          5,
          6,
          6,
          6,
          6,
          6,
          6,
          6,
          6,
          6,
          6,
          7,
          7,
          7,
          7,
          7,
          7,
          7,
          7,
          7,
          7,
          7,
          8,
          8,
          8,
          8,
          8,
          8,
          8,
          8,
          8,
          8,
          9,
          9,
          9,
          9,
          9,
          9,
          9,
          9,
          9,
          9,
          10,
          10,
          10,
          10,
          10,
          10,
          10,
          10,
          10,
          10,
          11,
          11,
          11,
          11,
          11,
          11,
          11,
          11,
          11,
          11,
          12,
          12,
          12,
          12,
          12,
          12,
          12,
          12,
          12,
          12,
          13,
          13,
          13,
          13,
          13,
          13,
          13,
          13,
          13,
          13,
          14,
          14,
          14,
          14,
          14,
          14,
          14,
          14,
          14,
          14,
          15,
          15,
          15,
          15,
          15,
          15,
          15,
          15,
          15,
          15,
          16,
          16,
          17,
          17,
          17,
          17,
          17,
          17,
          17,
          17,
          17,
          17,
          18,
          18,
          18,
          18,
          18,
          18,
          18,
          18,
          18,
          18,
          19,
          19,
          19,
          19,
          19,
          19,
          19,
          19,
          19,
          19,
          20,
          20,
          20,
          20,
          20,
          20,
          20,
          20,
          20,
          20,
          21,
          22,
          22,
          23,
          23,
          23,
          23,
          23,
          23,
          23,
          23,
          23,
          23,
          24,
          24,
          24,
          24,
          24,
          24,
          24,
          24,
          25,
          25,
          25,
          25,
          25,
          25,
          25,
          25,
          25,
          25,
          26,
          26,
          26,
          100,
          100,
          100,
          100,
          100,
          100,
          100,
          100,
          100,
          100,
          100,
          100,
          100,
          100,
          100,
          100,
          100,
          100,
          100,
          100,
          100,
          0,
          0,
          0,
          0,
          0,
          0,
          0,
          0,
          0,
          110,
          110,
          110,
          110,
          110,
          110,
          110,
          110,
          110,
          110,
          105,
          105,
          105,
          105,
          105,
          105,
          105,
          105,
          105,
          105,
          103.33333587646484,
          103.33333587646484,
          103.33333587646484,
          103.33333587646484,
          103.33333587646484,
          103.33333587646484,
          103.33333587646484,
          103.33333587646484,
          103.33333587646484,
          103.33333587646484,
          102.5,
          102.5,
          102.5,
          102.5,
          102.5,
          102.5,
          102.5,
          102.5,
          102.5,
          102.5,
          102,
          102,
          102,
          102,
          102,
          102,
          102,
          102,
          102,
          102,
          100,
          100,
          100,
          100,
          100,
          100,
          100,
          100,
          100,
          100,
          100,
          100,
          100,
          100,
          100,
          100,
          100,
          100,
          100,
          100,
          100,
          100,
          100,
          100,
          100,
          100,
          100,
          100,
          100,
          100,
          100,
          100,
          83.5999984741211,
          83.5999984741211,
          83.5999984741211,
          83.5999984741211,
          83.5999984741211,
          83.5999984741211,
          83.5999984741211,
          83.5999984741211,
          83.5999984741211,
          83.5999984741211,
          83.5999984741211,
          83.5999984741211,
          83.5999984741211,
          83.5999984741211,
          83.5999984741211,
          83.5999984741211,
          83.5999984741211,
          83.5999984741211,
          83.5999984741211,
          83.5999984741211,
          83.4000015258789,
          83.4000015258789,
          83.4000015258789,
          83.4000015258789,
          83.4000015258789,
          83.4000015258789,
          83.4000015258789,
          83.4000015258789,
          83.4000015258789,
          83.4000015258789,
          83.4000015258789,
          83.4000015258789,
          83.4000015258789,
          83.4000015258789,
          83.4000015258789,
          83.4000015258789,
          83.4000015258789,
          83.4000015258789,
          83.4000015258789,
          83.4000015258789,
          83.4000015258789,
          80.80000305175781,
          80.80000305175781,
          66.4000015258789,
          66.4000015258789,
          66.4000015258789,
          66.4000015258789,
          66.4000015258789,
          66.4000015258789,
          66.4000015258789,
          66.4000015258789,
          66.4000015258789,
          66.4000015258789,
          66.5999984741211,
          66.5999984741211,
          66.5999984741211,
          66.5999984741211,
          66.5999984741211,
          66.5999984741211,
          66.5999984741211,
          66.5999984741211,
          62,
          62,
          62,
          62,
          62,
          62,
          62,
          62,
          62,
          62,
          62,
          62,
          233.9442596435547,
          233.9442596435547,
          233.9442596435547,
          233.9442596435547,
          233.9442596435547,
          233.9442596435547,
          233.9442596435547,
          233.9442596435547,
          233.9442596435547,
          239.5263671875,
          239.5263671875,
          239.5263671875,
          239.5263671875,
          239.5263671875,
          239.5263671875,
          239.5263671875,
          239.5263671875,
          239.5263671875,
          239.5263671875,
          222.46054077148438,
          222.46054077148438,
          0,
          0,
          0,
          0,
          0,
          0,
          0,
          0,
          0,
          232.2338409423828,
          232.2338409423828,
          232.2338409423828,
          232.2338409423828,
          232.2338409423828,
          232.2338409423828,
          232.2338409423828,
          232.2338409423828,
          232.2338409423828,
          232.2338409423828,
          211.15045166015625,
          211.15045166015625,
          211.15045166015625,
          211.15045166015625,
          211.15045166015625,
          211.15045166015625,
          211.15045166015625,
          211.15045166015625,
          211.15045166015625,
          211.15045166015625,
          202.79046630859375,
          202.79046630859375,
          202.79046630859375,
          202.79046630859375,
          202.79046630859375,
          202.79046630859375,
          202.79046630859375,
          202.79046630859375,
          202.79046630859375,
          202.79046630859375,
          212.50830078125,
          212.50830078125,
          212.50830078125,
          212.50830078125,
          212.50830078125,
          212.50830078125,
          212.50830078125,
          212.50830078125,
          212.50830078125,
          212.50830078125,
          227.88882446289062,
          227.88882446289062,
          227.88882446289062,
          227.88882446289062,
          227.88882446289062,
          227.88882446289062,
          227.88882446289062,
          227.88882446289062,
          227.88882446289062,
          227.88882446289062,
          223.5751953125,
          223.5751953125,
          223.5751953125,
          223.5751953125,
          223.5751953125,
          223.5751953125,
          223.5751953125,
          223.5751953125,
          223.5751953125,
          223.5751953125,
          231.0397491455078,
          231.0397491455078,
          231.0397491455078,
          231.0397491455078,
          231.0397491455078,
          231.0397491455078,
          231.0397491455078,
          231.0397491455078,
          231.0397491455078,
          231.0397491455078,
          241.5989227294922,
          241.5989227294922,
          241.5989227294922,
          241.5989227294922,
          241.5989227294922,
          241.5989227294922,
          241.5989227294922,
          241.5989227294922,
          241.5989227294922,
          241.5989227294922,
          237.3598175048828,
          237.3598175048828,
          289.19232177734375,
          289.19232177734375,
          289.19232177734375,
          289.19232177734375,
          289.19232177734375,
          289.19232177734375,
          289.19232177734375,
          289.19232177734375,
          289.19232177734375,
          289.19232177734375,
          299.0574645996094,
          299.0574645996094,
          299.0574645996094,
          299.0574645996094,
          299.0574645996094,
          299.0574645996094,
          299.0574645996094,
          299.0574645996094,
          299.0574645996094,
          299.0574645996094,
          422.34600830078125,
          422.34600830078125,
          422.34600830078125,
          422.34600830078125,
          422.34600830078125,
          422.34600830078125,
          422.34600830078125,
          422.34600830078125,
          422.34600830078125,
          422.34600830078125,
          468.48614501953125,
          468.48614501953125,
          468.48614501953125,
          468.48614501953125,
          468.48614501953125,
          468.48614501953125,
          468.48614501953125,
          468.48614501953125,
          468.48614501953125,
          468.48614501953125,
          536.2322387695312,
          531.5345458984375,
          531.5345458984375,
          615.8965454101562,
          615.8965454101562,
          615.8965454101562,
          615.8965454101562,
          615.8965454101562,
          615.8965454101562,
          615.8965454101562,
          615.8965454101562,
          615.8965454101562,
          615.8965454101562,
          576.2653198242188,
          576.2653198242188,
          576.2653198242188,
          576.2653198242188,
          576.2653198242188,
          576.2653198242188,
          576.2653198242188,
          576.2653198242188,
          674.8909912109375,
          674.8909912109375,
          674.8909912109375,
          674.8909912109375,
          674.8909912109375,
          674.8909912109375,
          674.8909912109375,
          674.8909912109375,
          674.8909912109375,
          674.8909912109375,
          720.6781005859375,
          720.6781005859375,
          5,
          5,
          5,
          5,
          5,
          5,
          5,
          5,
          5,
          6,
          6,
          6,
          6,
          6,
          6,
          6,
          6,
          6,
          6,
          7,
          7,
          7,
          7,
          7,
          7,
          7,
          7,
          7,
          7,
          7,
          8,
          8,
          8,
          8,
          8,
          8,
          8,
          8,
          8,
          8,
          9,
          9,
          9,
          9,
          9,
          9,
          9,
          9,
          9,
          9,
          10,
          10,
          10,
          10,
          10,
          10,
          10,
          10,
          10,
          10,
          11,
          11,
          11,
          11,
          11,
          11,
          11,
          11,
          11,
          11,
          12,
          12,
          12,
          12,
          12,
          12,
          12,
          12,
          12,
          12,
          13,
          13,
          13,
          13,
          13,
          13,
          13,
          13,
          13,
          13,
          14,
          14,
          14,
          14,
          14,
          14,
          14,
          14,
          14,
          14,
          15,
          15,
          15,
          15,
          15,
          15,
          15,
          15,
          15,
          15,
          16,
          16,
          17,
          17,
          17,
          17,
          17,
          17,
          17,
          17,
          17,
          17,
          18,
          18,
          18,
          18,
          18,
          18,
          18,
          18,
          18,
          18,
          19,
          19,
          19,
          19,
          19,
          19,
          19,
          19,
          19,
          19,
          20,
          20,
          20,
          20,
          20,
          20,
          20,
          20,
          20,
          20,
          21,
          22,
          22,
          23,
          23,
          23,
          23,
          23,
          23,
          23,
          23,
          23,
          23,
          24,
          24,
          24,
          24,
          24,
          24,
          24,
          24,
          25,
          25,
          25,
          25,
          25,
          25,
          25,
          25,
          25,
          25,
          26,
          26,
          26,
          100,
          100,
          0,
          110,
          105,
          103.33333587646484,
          102.5,
          102,
          100,
          100,
          100,
          100,
          83.5999984741211,
          83.5999984741211,
          83.4000015258789,
          83.4000015258789,
          83.4000015258789,
          80.80000305175781,
          66.4000015258789,
          66.5999984741211,
          62,
          62,
          233.9442596435547,
          239.5263671875,
          222.46054077148438,
          232.2338409423828,
          211.15045166015625,
          202.79046630859375,
          212.50830078125,
          227.88882446289062,
          223.5751953125,
          231.0397491455078,
          241.5989227294922,
          237.3598175048828,
          289.19232177734375,
          299.0574645996094,
          422.34600830078125,
          468.48614501953125,
          536.2322387695312,
          531.5345458984375,
          615.8965454101562,
          576.2653198242188,
          674.8909912109375,
          720.6781005859375,
          540,
          690,
          730,
          810,
          940,
          1090,
          1190,
          1230,
          1320,
          1490,
          1550,
          1620,
          1650,
          1800,
          1910,
          1940,
          2030,
          2050,
          2090,
          2190,
          2300,
          2360,
          0.8829875588417053,
          3.0857958793640137,
          3.130004405975342,
          3.644285202026367,
          3.7204837799072266,
          3.2101871967315674,
          2.8350796699523926,
          3.129230260848999,
          2.9808950424194336,
          2.073575496673584,
          3.292862892150879,
          3.836880922317505,
          3.2169928550720215,
          2.592008352279663,
          2.7737133502960205,
          3.462080240249634,
          2.9163477420806885,
          2.8543407917022705,
          4.124477863311768,
          3.6515614986419678,
          3.538330078125,
          0.7647229433059692,
          3.033904552459717,
          3.142026424407959,
          2.813281297683716,
          2.5112879276275635,
          3.426137685775757,
          3.151188373565674,
          2.8683431148529053,
          4.0707011222839355,
          3.0736818313598633,
          2.5355396270751953,
          2.419391393661499,
          2.976180076599121,
          4.183372497558594,
          3.1776082515716553,
          2.8620269298553467,
          3.775637626647949,
          3.529958486557007,
          4.345541000366211,
          2.580789089202881,
          1.5877265930175781,
          3.169215202331543,
          2.8770244121551514,
          2.503129243850708,
          3.4263904094696045,
          3.455200433731079,
          3.0955352783203125,
          2.78310489654541,
          2.491569995880127,
          3.0270886421203613,
          1.9043468236923218,
          2.8826959133148193,
          3.2287485599517822,
          3.3849728107452393,
          3.1734731197357178,
          3.286329746246338,
          2.9419901371002197,
          3.84820818901062,
          3.0904781818389893,
          3.892805814743042,
          2.210158586502075,
          3.9011282920837402,
          2.9057602882385254,
          4.088047981262207,
          4.066337585449219,
          3.2449703216552734,
          3.3246116638183594,
          3.368415117263794,
          3.4966890811920166,
          3.347273349761963,
          2.3448798656463623,
          3.0174436569213867,
          2.193601131439209,
          2.934677839279175,
          2.8530638217926025,
          2.826045036315918,
          2.8708722591400146,
          3.2848832607269287,
          2.5776050090789795,
          2.5852367877960205,
          3.0520222187042236,
          2.9403223991394043,
          3.6956093311309814,
          3.662282943725586,
          2.862488031387329,
          3.0430073738098145,
          3.281132936477661,
          2.4911022186279297,
          2.6738383769989014,
          2.6212832927703857,
          3.1655962467193604,
          2.961743116378784,
          2.3851115703582764,
          3.734039306640625,
          3.0725977420806885,
          3.282849073410034,
          3.663011312484741,
          3.225843667984009,
          3.1670875549316406,
          2.7439630031585693,
          2.987812042236328,
          3.2785191535949707,
          2.7740118503570557,
          2.6456878185272217,
          3.0544443130493164,
          2.6260910034179688,
          3.3301477432250977,
          2.7520463466644287,
          1.9268906116485596,
          3.5202677249908447,
          3.100025177001953,
          3.2544357776641846,
          3.104278564453125,
          3.101348638534546,
          3.0431509017944336,
          3.511387825012207,
          2.914926767349243,
          2.6004843711853027,
          3.5901262760162354,
          3.938323497772217,
          3.2735435962677,
          2.8375489711761475,
          4.385778427124023,
          0.5203790664672852,
          5.712891578674316,
          3.6954662799835205,
          3.3981263637542725,
          3.377420663833618,
          3.1628904342651367,
          3.519517421722412,
          2.718754768371582,
          2.536698341369629,
          2.750215530395508,
          2.730043411254883,
          3.085224151611328,
          3.2202117443084717,
          3.733837842941284,
          4.122359275817871,
          3.764108896255493,
          4.715075969696045,
          4.445107936859131,
          3.4660146236419678,
          4.662586212158203,
          4.675597190856934,
          4.215152740478516,
          4.74181604385376,
          3.576690912246704,
          4.7475714683532715,
          4.215839862823486,
          3.742966890335083,
          4.060401916503906,
          3.967099905014038,
          4.434162139892578,
          3.428734064102173,
          4.2451863288879395,
          3.6198551654815674,
          3.3442625999450684,
          4.149427890777588,
          4.329113006591797,
          4.048157215118408,
          3.724817991256714,
          3.5934438705444336,
          4.6178178787231445,
          3.9465978145599365,
          3.3326728343963623,
          4.383780002593994,
          4.116285800933838,
          4.157857418060303,
          4.082005500793457,
          4.508321762084961,
          4.38275671005249,
          4.2162933349609375,
          3.5799238681793213,
          4.5799479484558105,
          3.6172149181365967,
          3.7657134532928467,
          4.205850124359131,
          3.7304189205169678,
          4.604783058166504,
          3.730365753173828,
          4.608909606933594,
          4.320716857910156,
          3.4908969402313232,
          3.0455572605133057,
          3.7312090396881104
         ],
         "yaxis": "y"
        }
       ],
       "layout": {
        "legend": {
         "tracegroupgap": 0
        },
        "margin": {
         "t": 60
        },
        "template": {
         "data": {
          "bar": [
           {
            "error_x": {
             "color": "#2a3f5f"
            },
            "error_y": {
             "color": "#2a3f5f"
            },
            "marker": {
             "line": {
              "color": "#E5ECF6",
              "width": 0.5
             },
             "pattern": {
              "fillmode": "overlay",
              "size": 10,
              "solidity": 0.2
             }
            },
            "type": "bar"
           }
          ],
          "barpolar": [
           {
            "marker": {
             "line": {
              "color": "#E5ECF6",
              "width": 0.5
             },
             "pattern": {
              "fillmode": "overlay",
              "size": 10,
              "solidity": 0.2
             }
            },
            "type": "barpolar"
           }
          ],
          "carpet": [
           {
            "aaxis": {
             "endlinecolor": "#2a3f5f",
             "gridcolor": "white",
             "linecolor": "white",
             "minorgridcolor": "white",
             "startlinecolor": "#2a3f5f"
            },
            "baxis": {
             "endlinecolor": "#2a3f5f",
             "gridcolor": "white",
             "linecolor": "white",
             "minorgridcolor": "white",
             "startlinecolor": "#2a3f5f"
            },
            "type": "carpet"
           }
          ],
          "choropleth": [
           {
            "colorbar": {
             "outlinewidth": 0,
             "ticks": ""
            },
            "type": "choropleth"
           }
          ],
          "contour": [
           {
            "colorbar": {
             "outlinewidth": 0,
             "ticks": ""
            },
            "colorscale": [
             [
              0,
              "#0d0887"
             ],
             [
              0.1111111111111111,
              "#46039f"
             ],
             [
              0.2222222222222222,
              "#7201a8"
             ],
             [
              0.3333333333333333,
              "#9c179e"
             ],
             [
              0.4444444444444444,
              "#bd3786"
             ],
             [
              0.5555555555555556,
              "#d8576b"
             ],
             [
              0.6666666666666666,
              "#ed7953"
             ],
             [
              0.7777777777777778,
              "#fb9f3a"
             ],
             [
              0.8888888888888888,
              "#fdca26"
             ],
             [
              1,
              "#f0f921"
             ]
            ],
            "type": "contour"
           }
          ],
          "contourcarpet": [
           {
            "colorbar": {
             "outlinewidth": 0,
             "ticks": ""
            },
            "type": "contourcarpet"
           }
          ],
          "heatmap": [
           {
            "colorbar": {
             "outlinewidth": 0,
             "ticks": ""
            },
            "colorscale": [
             [
              0,
              "#0d0887"
             ],
             [
              0.1111111111111111,
              "#46039f"
             ],
             [
              0.2222222222222222,
              "#7201a8"
             ],
             [
              0.3333333333333333,
              "#9c179e"
             ],
             [
              0.4444444444444444,
              "#bd3786"
             ],
             [
              0.5555555555555556,
              "#d8576b"
             ],
             [
              0.6666666666666666,
              "#ed7953"
             ],
             [
              0.7777777777777778,
              "#fb9f3a"
             ],
             [
              0.8888888888888888,
              "#fdca26"
             ],
             [
              1,
              "#f0f921"
             ]
            ],
            "type": "heatmap"
           }
          ],
          "heatmapgl": [
           {
            "colorbar": {
             "outlinewidth": 0,
             "ticks": ""
            },
            "colorscale": [
             [
              0,
              "#0d0887"
             ],
             [
              0.1111111111111111,
              "#46039f"
             ],
             [
              0.2222222222222222,
              "#7201a8"
             ],
             [
              0.3333333333333333,
              "#9c179e"
             ],
             [
              0.4444444444444444,
              "#bd3786"
             ],
             [
              0.5555555555555556,
              "#d8576b"
             ],
             [
              0.6666666666666666,
              "#ed7953"
             ],
             [
              0.7777777777777778,
              "#fb9f3a"
             ],
             [
              0.8888888888888888,
              "#fdca26"
             ],
             [
              1,
              "#f0f921"
             ]
            ],
            "type": "heatmapgl"
           }
          ],
          "histogram": [
           {
            "marker": {
             "pattern": {
              "fillmode": "overlay",
              "size": 10,
              "solidity": 0.2
             }
            },
            "type": "histogram"
           }
          ],
          "histogram2d": [
           {
            "colorbar": {
             "outlinewidth": 0,
             "ticks": ""
            },
            "colorscale": [
             [
              0,
              "#0d0887"
             ],
             [
              0.1111111111111111,
              "#46039f"
             ],
             [
              0.2222222222222222,
              "#7201a8"
             ],
             [
              0.3333333333333333,
              "#9c179e"
             ],
             [
              0.4444444444444444,
              "#bd3786"
             ],
             [
              0.5555555555555556,
              "#d8576b"
             ],
             [
              0.6666666666666666,
              "#ed7953"
             ],
             [
              0.7777777777777778,
              "#fb9f3a"
             ],
             [
              0.8888888888888888,
              "#fdca26"
             ],
             [
              1,
              "#f0f921"
             ]
            ],
            "type": "histogram2d"
           }
          ],
          "histogram2dcontour": [
           {
            "colorbar": {
             "outlinewidth": 0,
             "ticks": ""
            },
            "colorscale": [
             [
              0,
              "#0d0887"
             ],
             [
              0.1111111111111111,
              "#46039f"
             ],
             [
              0.2222222222222222,
              "#7201a8"
             ],
             [
              0.3333333333333333,
              "#9c179e"
             ],
             [
              0.4444444444444444,
              "#bd3786"
             ],
             [
              0.5555555555555556,
              "#d8576b"
             ],
             [
              0.6666666666666666,
              "#ed7953"
             ],
             [
              0.7777777777777778,
              "#fb9f3a"
             ],
             [
              0.8888888888888888,
              "#fdca26"
             ],
             [
              1,
              "#f0f921"
             ]
            ],
            "type": "histogram2dcontour"
           }
          ],
          "mesh3d": [
           {
            "colorbar": {
             "outlinewidth": 0,
             "ticks": ""
            },
            "type": "mesh3d"
           }
          ],
          "parcoords": [
           {
            "line": {
             "colorbar": {
              "outlinewidth": 0,
              "ticks": ""
             }
            },
            "type": "parcoords"
           }
          ],
          "pie": [
           {
            "automargin": true,
            "type": "pie"
           }
          ],
          "scatter": [
           {
            "marker": {
             "colorbar": {
              "outlinewidth": 0,
              "ticks": ""
             }
            },
            "type": "scatter"
           }
          ],
          "scatter3d": [
           {
            "line": {
             "colorbar": {
              "outlinewidth": 0,
              "ticks": ""
             }
            },
            "marker": {
             "colorbar": {
              "outlinewidth": 0,
              "ticks": ""
             }
            },
            "type": "scatter3d"
           }
          ],
          "scattercarpet": [
           {
            "marker": {
             "colorbar": {
              "outlinewidth": 0,
              "ticks": ""
             }
            },
            "type": "scattercarpet"
           }
          ],
          "scattergeo": [
           {
            "marker": {
             "colorbar": {
              "outlinewidth": 0,
              "ticks": ""
             }
            },
            "type": "scattergeo"
           }
          ],
          "scattergl": [
           {
            "marker": {
             "colorbar": {
              "outlinewidth": 0,
              "ticks": ""
             }
            },
            "type": "scattergl"
           }
          ],
          "scattermapbox": [
           {
            "marker": {
             "colorbar": {
              "outlinewidth": 0,
              "ticks": ""
             }
            },
            "type": "scattermapbox"
           }
          ],
          "scatterpolar": [
           {
            "marker": {
             "colorbar": {
              "outlinewidth": 0,
              "ticks": ""
             }
            },
            "type": "scatterpolar"
           }
          ],
          "scatterpolargl": [
           {
            "marker": {
             "colorbar": {
              "outlinewidth": 0,
              "ticks": ""
             }
            },
            "type": "scatterpolargl"
           }
          ],
          "scatterternary": [
           {
            "marker": {
             "colorbar": {
              "outlinewidth": 0,
              "ticks": ""
             }
            },
            "type": "scatterternary"
           }
          ],
          "surface": [
           {
            "colorbar": {
             "outlinewidth": 0,
             "ticks": ""
            },
            "colorscale": [
             [
              0,
              "#0d0887"
             ],
             [
              0.1111111111111111,
              "#46039f"
             ],
             [
              0.2222222222222222,
              "#7201a8"
             ],
             [
              0.3333333333333333,
              "#9c179e"
             ],
             [
              0.4444444444444444,
              "#bd3786"
             ],
             [
              0.5555555555555556,
              "#d8576b"
             ],
             [
              0.6666666666666666,
              "#ed7953"
             ],
             [
              0.7777777777777778,
              "#fb9f3a"
             ],
             [
              0.8888888888888888,
              "#fdca26"
             ],
             [
              1,
              "#f0f921"
             ]
            ],
            "type": "surface"
           }
          ],
          "table": [
           {
            "cells": {
             "fill": {
              "color": "#EBF0F8"
             },
             "line": {
              "color": "white"
             }
            },
            "header": {
             "fill": {
              "color": "#C8D4E3"
             },
             "line": {
              "color": "white"
             }
            },
            "type": "table"
           }
          ]
         },
         "layout": {
          "annotationdefaults": {
           "arrowcolor": "#2a3f5f",
           "arrowhead": 0,
           "arrowwidth": 1
          },
          "autotypenumbers": "strict",
          "coloraxis": {
           "colorbar": {
            "outlinewidth": 0,
            "ticks": ""
           }
          },
          "colorscale": {
           "diverging": [
            [
             0,
             "#8e0152"
            ],
            [
             0.1,
             "#c51b7d"
            ],
            [
             0.2,
             "#de77ae"
            ],
            [
             0.3,
             "#f1b6da"
            ],
            [
             0.4,
             "#fde0ef"
            ],
            [
             0.5,
             "#f7f7f7"
            ],
            [
             0.6,
             "#e6f5d0"
            ],
            [
             0.7,
             "#b8e186"
            ],
            [
             0.8,
             "#7fbc41"
            ],
            [
             0.9,
             "#4d9221"
            ],
            [
             1,
             "#276419"
            ]
           ],
           "sequential": [
            [
             0,
             "#0d0887"
            ],
            [
             0.1111111111111111,
             "#46039f"
            ],
            [
             0.2222222222222222,
             "#7201a8"
            ],
            [
             0.3333333333333333,
             "#9c179e"
            ],
            [
             0.4444444444444444,
             "#bd3786"
            ],
            [
             0.5555555555555556,
             "#d8576b"
            ],
            [
             0.6666666666666666,
             "#ed7953"
            ],
            [
             0.7777777777777778,
             "#fb9f3a"
            ],
            [
             0.8888888888888888,
             "#fdca26"
            ],
            [
             1,
             "#f0f921"
            ]
           ],
           "sequentialminus": [
            [
             0,
             "#0d0887"
            ],
            [
             0.1111111111111111,
             "#46039f"
            ],
            [
             0.2222222222222222,
             "#7201a8"
            ],
            [
             0.3333333333333333,
             "#9c179e"
            ],
            [
             0.4444444444444444,
             "#bd3786"
            ],
            [
             0.5555555555555556,
             "#d8576b"
            ],
            [
             0.6666666666666666,
             "#ed7953"
            ],
            [
             0.7777777777777778,
             "#fb9f3a"
            ],
            [
             0.8888888888888888,
             "#fdca26"
            ],
            [
             1,
             "#f0f921"
            ]
           ]
          },
          "colorway": [
           "#636efa",
           "#EF553B",
           "#00cc96",
           "#ab63fa",
           "#FFA15A",
           "#19d3f3",
           "#FF6692",
           "#B6E880",
           "#FF97FF",
           "#FECB52"
          ],
          "font": {
           "color": "#2a3f5f"
          },
          "geo": {
           "bgcolor": "white",
           "lakecolor": "white",
           "landcolor": "#E5ECF6",
           "showlakes": true,
           "showland": true,
           "subunitcolor": "white"
          },
          "hoverlabel": {
           "align": "left"
          },
          "hovermode": "closest",
          "mapbox": {
           "style": "light"
          },
          "paper_bgcolor": "white",
          "plot_bgcolor": "#E5ECF6",
          "polar": {
           "angularaxis": {
            "gridcolor": "white",
            "linecolor": "white",
            "ticks": ""
           },
           "bgcolor": "#E5ECF6",
           "radialaxis": {
            "gridcolor": "white",
            "linecolor": "white",
            "ticks": ""
           }
          },
          "scene": {
           "xaxis": {
            "backgroundcolor": "#E5ECF6",
            "gridcolor": "white",
            "gridwidth": 2,
            "linecolor": "white",
            "showbackground": true,
            "ticks": "",
            "zerolinecolor": "white"
           },
           "yaxis": {
            "backgroundcolor": "#E5ECF6",
            "gridcolor": "white",
            "gridwidth": 2,
            "linecolor": "white",
            "showbackground": true,
            "ticks": "",
            "zerolinecolor": "white"
           },
           "zaxis": {
            "backgroundcolor": "#E5ECF6",
            "gridcolor": "white",
            "gridwidth": 2,
            "linecolor": "white",
            "showbackground": true,
            "ticks": "",
            "zerolinecolor": "white"
           }
          },
          "shapedefaults": {
           "line": {
            "color": "#2a3f5f"
           }
          },
          "ternary": {
           "aaxis": {
            "gridcolor": "white",
            "linecolor": "white",
            "ticks": ""
           },
           "baxis": {
            "gridcolor": "white",
            "linecolor": "white",
            "ticks": ""
           },
           "bgcolor": "#E5ECF6",
           "caxis": {
            "gridcolor": "white",
            "linecolor": "white",
            "ticks": ""
           }
          },
          "title": {
           "x": 0.05
          },
          "xaxis": {
           "automargin": true,
           "gridcolor": "white",
           "linecolor": "white",
           "ticks": "",
           "title": {
            "standoff": 15
           },
           "zerolinecolor": "white",
           "zerolinewidth": 2
          },
          "yaxis": {
           "automargin": true,
           "gridcolor": "white",
           "linecolor": "white",
           "ticks": "",
           "title": {
            "standoff": 15
           },
           "zerolinecolor": "white",
           "zerolinewidth": 2
          }
         }
        },
        "xaxis": {
         "anchor": "y",
         "domain": [
          0,
          1
         ],
         "title": {
          "text": "step"
         }
        },
        "yaxis": {
         "anchor": "x",
         "domain": [
          0,
          1
         ],
         "title": {
          "text": "value"
         }
        }
       }
      }
     },
     "metadata": {}
    }
   ],
   "metadata": {}
  }
 ],
 "metadata": {
  "orig_nbformat": 4,
  "kernelspec": {
   "name": "python3",
   "display_name": "Python 3.8.8 64-bit ('base': conda)"
  },
  "interpreter": {
   "hash": "d0b14f7a84566a43528cf611731f7edd5c8e6dc2af952cf56f49f145d306d43e"
  },
  "language_info": {
   "name": "python",
   "version": "3.8.8",
   "mimetype": "text/x-python",
   "codemirror_mode": {
    "name": "ipython",
    "version": 3
   },
   "pygments_lexer": "ipython3",
   "nbconvert_exporter": "python",
   "file_extension": ".py"
  }
 },
 "nbformat": 4,
 "nbformat_minor": 2
}